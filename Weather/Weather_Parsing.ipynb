{
 "cells": [
  {
   "cell_type": "code",
   "execution_count": 2,
   "metadata": {},
   "outputs": [],
   "source": [
    "import pandas as pd\n",
    "import time\n",
    "import json\n",
    "import datetime\n",
    "import Config\n",
    "from worldweather import *"
   ]
  },
  {
   "cell_type": "code",
   "execution_count": 20,
   "metadata": {},
   "outputs": [],
   "source": [
    "weatherfiles = ['weather20190116-225604.txt','weather20190116-231412.txt']\n",
    "\n",
    "myfile = 'weather20190116-231412.txt'\n",
    "\n",
    "with open(myfile) as jsonfile:\n",
    "    wdata = json.load(jsonfile)\n"
   ]
  },
  {
   "cell_type": "code",
   "execution_count": 21,
   "metadata": {},
   "outputs": [
    {
     "data": {
      "text/plain": [
       "'2015-01-01'"
      ]
     },
     "execution_count": 21,
     "metadata": {},
     "output_type": "execute_result"
    }
   ],
   "source": [
    "wdata[0]['data']['weather'][0]['date']"
   ]
  },
  {
   "cell_type": "code",
   "execution_count": 22,
   "metadata": {},
   "outputs": [],
   "source": [
    "date = []\n",
    "maxtempF = []\n",
    "mintempF = []\n",
    "hum = []\n",
    "precip = []\n",
    "w_type = []\n",
    "wi_speed = []\n",
    "wi_gust = []\n",
    "\n",
    "for item in wdata:\n",
    "\n",
    "    try:\n",
    "        date_value = item['data']['weather'][0]['date']\n",
    "        max_value = item['data']['weather'][0]['maxtempF']\n",
    "        min_value = item['data']['weather'][0]['mintempF']\n",
    "        hum_value = item['data']['weather'][0]['hourly'][0]['humidity']\n",
    "        pre_value = item['data']['weather'][0]['hourly'][0]['precipMM']\n",
    "        desc_value = item['data']['weather'][0]['hourly'][0]['weatherDesc'][0]['value']\n",
    "        wspeed_value = item['data']['weather'][0]['hourly'][0]['windspeedMiles']\n",
    "        wgusts_value = item['data']['weather'][0]['hourly'][0]['WindGustMiles'] \n",
    "\n",
    "        date.append(date_value)\n",
    "        mintempF.append(min_value)\n",
    "        maxtempF.append(max_value)\n",
    "        hum.append(hum_value)\n",
    "        precip.append(pre_value)\n",
    "        w_type.append(desc_value)\n",
    "        wi_speed.append(wspeed_value)\n",
    "        wi_gust.append(wgusts_value)\n",
    "    except:\n",
    "        date.append('')\n",
    "        mintempF.append('')\n",
    "        maxtempF.append('')\n",
    "        hum.append('')\n",
    "        precip.append('')\n",
    "        w_type.append('')\n",
    "        wi_speed.append('')\n",
    "        wi_gust.append('')"
   ]
  },
  {
   "cell_type": "code",
   "execution_count": null,
   "metadata": {},
   "outputs": [],
   "source": [
    "clean_weather2 = pd.DataFrame(\n",
    "    {'Date': date, \n",
    "     'Max Temp (f)': maxtempF, \n",
    "     'Min Temp (f)': mintempF, \n",
    "     'Humidity': hum, \n",
    "     'Precipitation': precip, \n",
    "     'Weather Conditions': w_type,\n",
    "    'Wind Speed':wi_speed,\n",
    "    'Wind Gust':wi_gust})"
   ]
  },
  {
   "cell_type": "code",
   "execution_count": 28,
   "metadata": {},
   "outputs": [
    {
     "data": {
      "text/plain": [
       "1461"
      ]
     },
     "execution_count": 28,
     "metadata": {},
     "output_type": "execute_result"
    }
   ],
   "source": [
    "len(clean_weather2)"
   ]
  },
  {
   "cell_type": "code",
   "execution_count": null,
   "metadata": {},
   "outputs": [],
   "source": [
    "clean_weather = pd.DataFrame(\n",
    "    {'Date': date, \n",
    "     'Max Temp (f)': maxtempF, \n",
    "     'Min Temp (f)': mintempF, \n",
    "     'Humidity': hum, \n",
    "     'Precipitation': precip, \n",
    "     'Weather Conditions': w_type,\n",
    "    'Wind Speed':wi_speed,\n",
    "    'Wind Gust':wi_gust})"
   ]
  },
  {
   "cell_type": "code",
   "execution_count": 27,
   "metadata": {},
   "outputs": [
    {
     "data": {
      "text/plain": [
       "1826"
      ]
     },
     "execution_count": 27,
     "metadata": {},
     "output_type": "execute_result"
    }
   ],
   "source": [
    "len(clean_weather)"
   ]
  },
  {
   "cell_type": "code",
   "execution_count": 24,
   "metadata": {},
   "outputs": [],
   "source": [
    "all_weather = clean_weather.append(clean_weather2)"
   ]
  },
  {
   "cell_type": "code",
   "execution_count": 26,
   "metadata": {},
   "outputs": [
    {
     "data": {
      "text/plain": [
       "3287"
      ]
     },
     "execution_count": 26,
     "metadata": {},
     "output_type": "execute_result"
    }
   ],
   "source": [
    "len(all_weather)\n"
   ]
  },
  {
   "cell_type": "code",
   "execution_count": 29,
   "metadata": {},
   "outputs": [
    {
     "data": {
      "text/html": [
       "<div>\n",
       "<style scoped>\n",
       "    .dataframe tbody tr th:only-of-type {\n",
       "        vertical-align: middle;\n",
       "    }\n",
       "\n",
       "    .dataframe tbody tr th {\n",
       "        vertical-align: top;\n",
       "    }\n",
       "\n",
       "    .dataframe thead th {\n",
       "        text-align: right;\n",
       "    }\n",
       "</style>\n",
       "<table border=\"1\" class=\"dataframe\">\n",
       "  <thead>\n",
       "    <tr style=\"text-align: right;\">\n",
       "      <th></th>\n",
       "      <th>Date</th>\n",
       "      <th>Max Temp (f)</th>\n",
       "      <th>Min Temp (f)</th>\n",
       "      <th>Humidity</th>\n",
       "      <th>Precipitation</th>\n",
       "      <th>Weather Conditions</th>\n",
       "      <th>Wind Speed</th>\n",
       "      <th>Wind Gust</th>\n",
       "    </tr>\n",
       "  </thead>\n",
       "  <tbody>\n",
       "    <tr>\n",
       "      <th>0</th>\n",
       "      <td>2010-01-01</td>\n",
       "      <td>43</td>\n",
       "      <td>40</td>\n",
       "      <td>90</td>\n",
       "      <td>1.4</td>\n",
       "      <td>Patchy light drizzle</td>\n",
       "      <td>9</td>\n",
       "      <td>15</td>\n",
       "    </tr>\n",
       "  </tbody>\n",
       "</table>\n",
       "</div>"
      ],
      "text/plain": [
       "         Date Max Temp (f) Min Temp (f) Humidity Precipitation  \\\n",
       "0  2010-01-01           43           40       90           1.4   \n",
       "\n",
       "     Weather Conditions Wind Speed Wind Gust  \n",
       "0  Patchy light drizzle          9        15  "
      ]
     },
     "execution_count": 29,
     "metadata": {},
     "output_type": "execute_result"
    }
   ],
   "source": [
    "all_weather.head(1)"
   ]
  },
  {
   "cell_type": "code",
   "execution_count": 30,
   "metadata": {},
   "outputs": [],
   "source": [
    "all_weather.to_csv('../output/all_weather_data.csv', header=True, encoding='UTF-8')"
   ]
  },
  {
   "cell_type": "code",
   "execution_count": null,
   "metadata": {},
   "outputs": [],
   "source": []
  }
 ],
 "metadata": {
  "kernelspec": {
   "display_name": "Python 3",
   "language": "python",
   "name": "python3"
  },
  "language_info": {
   "codemirror_mode": {
    "name": "ipython",
    "version": 3
   },
   "file_extension": ".py",
   "mimetype": "text/x-python",
   "name": "python",
   "nbconvert_exporter": "python",
   "pygments_lexer": "ipython3",
   "version": "3.7.0"
  }
 },
 "nbformat": 4,
 "nbformat_minor": 2
}
