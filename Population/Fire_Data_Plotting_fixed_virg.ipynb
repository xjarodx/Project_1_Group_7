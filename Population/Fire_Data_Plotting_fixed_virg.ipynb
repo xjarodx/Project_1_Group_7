{
 "cells": [
  {
   "cell_type": "markdown",
   "metadata": {},
   "source": [
    "## DO NOT ALTER THE CODE FROM HERE THROUGH PLOTTING"
   ]
  },
  {
   "cell_type": "code",
   "execution_count": 15,
   "metadata": {},
   "outputs": [],
   "source": [
    "import time\n",
    "import pandas as pd\n",
    "import numpy as np\n",
    "import matplotlib.pyplot as plt\n",
    "from datetime import date\n",
    "import seaborn as sbn\n",
    "from scipy import stats"
   ]
  },
  {
   "cell_type": "code",
   "execution_count": 16,
   "metadata": {},
   "outputs": [
    {
     "name": "stderr",
     "output_type": "stream",
     "text": [
      "/anaconda3/envs/PythonData/lib/python3.6/site-packages/IPython/core/interactiveshell.py:2785: DtypeWarning: Columns (13,14) have mixed types. Specify dtype option on import or set low_memory=False.\n",
      "  interactivity=interactivity, compiler=compiler, result=result)\n"
     ]
    },
    {
     "data": {
      "text/plain": [
       "159803"
      ]
     },
     "execution_count": 16,
     "metadata": {},
     "output_type": "execute_result"
    }
   ],
   "source": [
    "# Importing the cleaned/combined data from the csv with the years 2008-2018\n",
    "\n",
    "firefile = '../output/all_with_no_incident_nulls.csv'\n",
    "df = pd.read_csv(firefile, skip_blank_lines=True, encoding='UTF-8')\n",
    "len(df)\n"
   ]
  },
  {
   "cell_type": "code",
   "execution_count": 17,
   "metadata": {},
   "outputs": [
    {
     "data": {
      "text/plain": [
       "OBJECTID                              int64\n",
       "address                              object\n",
       "address2                             object\n",
       "apt_room                             object\n",
       "arrive_date_time             datetime64[ns]\n",
       "cleared_date_time            datetime64[ns]\n",
       "dispatch_date_time           datetime64[ns]\n",
       "exposure                              int64\n",
       "incident_number                      object\n",
       "incident_type                       float64\n",
       "incident_type_description            object\n",
       "platoon                              object\n",
       "station                             float64\n",
       "Longitude                            object\n",
       "Latitude                             object\n",
       "Year                                float64\n",
       "Date                                 object\n",
       "dtype: object"
      ]
     },
     "execution_count": 17,
     "metadata": {},
     "output_type": "execute_result"
    }
   ],
   "source": [
    "df['arrive_date_time'] = pd.to_datetime(df['arrive_date_time'])\n",
    "df['cleared_date_time'] = pd.to_datetime(df['cleared_date_time'])\n",
    "df['dispatch_date_time'] = pd.to_datetime(df['dispatch_date_time'])\n",
    "df.dtypes"
   ]
  },
  {
   "cell_type": "code",
   "execution_count": 18,
   "metadata": {},
   "outputs": [
    {
     "data": {
      "text/plain": [
       "154071"
      ]
     },
     "execution_count": 18,
     "metadata": {},
     "output_type": "execute_result"
    }
   ],
   "source": [
    "# The total number of rows with the years 2008-2018 and incident type not null\n",
    "len(df['dispatch_date_time'].unique())"
   ]
  },
  {
   "cell_type": "code",
   "execution_count": 19,
   "metadata": {},
   "outputs": [
    {
     "data": {
      "text/plain": [
       "Year\n",
       "2008.0    13705\n",
       "2009.0    13028\n",
       "2010.0    13531\n",
       "2011.0    13893\n",
       "2012.0    13607\n",
       "2013.0    13943\n",
       "2014.0    14415\n",
       "2015.0    15130\n",
       "2016.0    15746\n",
       "2017.0    18151\n",
       "2018.0    14654\n",
       "Name: OBJECTID, dtype: int64"
      ]
     },
     "execution_count": 19,
     "metadata": {},
     "output_type": "execute_result"
    }
   ],
   "source": [
    "years = df.groupby('Year')['OBJECTID'].count()\n",
    "years"
   ]
  },
  {
   "cell_type": "code",
   "execution_count": 20,
   "metadata": {},
   "outputs": [
    {
     "data": {
      "text/html": [
       "<div>\n",
       "<style scoped>\n",
       "    .dataframe tbody tr th:only-of-type {\n",
       "        vertical-align: middle;\n",
       "    }\n",
       "\n",
       "    .dataframe tbody tr th {\n",
       "        vertical-align: top;\n",
       "    }\n",
       "\n",
       "    .dataframe thead th {\n",
       "        text-align: right;\n",
       "    }\n",
       "</style>\n",
       "<table border=\"1\" class=\"dataframe\">\n",
       "  <thead>\n",
       "    <tr style=\"text-align: right;\">\n",
       "      <th></th>\n",
       "      <th>Year</th>\n",
       "      <th>Incident Count</th>\n",
       "    </tr>\n",
       "  </thead>\n",
       "  <tbody>\n",
       "    <tr>\n",
       "      <th>0</th>\n",
       "      <td>2008.0</td>\n",
       "      <td>13705</td>\n",
       "    </tr>\n",
       "    <tr>\n",
       "      <th>1</th>\n",
       "      <td>2009.0</td>\n",
       "      <td>13028</td>\n",
       "    </tr>\n",
       "    <tr>\n",
       "      <th>2</th>\n",
       "      <td>2010.0</td>\n",
       "      <td>13531</td>\n",
       "    </tr>\n",
       "    <tr>\n",
       "      <th>3</th>\n",
       "      <td>2011.0</td>\n",
       "      <td>13893</td>\n",
       "    </tr>\n",
       "    <tr>\n",
       "      <th>4</th>\n",
       "      <td>2012.0</td>\n",
       "      <td>13607</td>\n",
       "    </tr>\n",
       "    <tr>\n",
       "      <th>5</th>\n",
       "      <td>2013.0</td>\n",
       "      <td>13943</td>\n",
       "    </tr>\n",
       "    <tr>\n",
       "      <th>6</th>\n",
       "      <td>2014.0</td>\n",
       "      <td>14415</td>\n",
       "    </tr>\n",
       "    <tr>\n",
       "      <th>7</th>\n",
       "      <td>2015.0</td>\n",
       "      <td>15130</td>\n",
       "    </tr>\n",
       "    <tr>\n",
       "      <th>8</th>\n",
       "      <td>2016.0</td>\n",
       "      <td>15746</td>\n",
       "    </tr>\n",
       "    <tr>\n",
       "      <th>9</th>\n",
       "      <td>2017.0</td>\n",
       "      <td>18151</td>\n",
       "    </tr>\n",
       "    <tr>\n",
       "      <th>10</th>\n",
       "      <td>2018.0</td>\n",
       "      <td>14654</td>\n",
       "    </tr>\n",
       "  </tbody>\n",
       "</table>\n",
       "</div>"
      ],
      "text/plain": [
       "      Year  Incident Count\n",
       "0   2008.0           13705\n",
       "1   2009.0           13028\n",
       "2   2010.0           13531\n",
       "3   2011.0           13893\n",
       "4   2012.0           13607\n",
       "5   2013.0           13943\n",
       "6   2014.0           14415\n",
       "7   2015.0           15130\n",
       "8   2016.0           15746\n",
       "9   2017.0           18151\n",
       "10  2018.0           14654"
      ]
     },
     "execution_count": 20,
     "metadata": {},
     "output_type": "execute_result"
    }
   ],
   "source": [
    "# Create data frame to hold Fire Incidents\n",
    "incident = years\n",
    "incident_df = pd.DataFrame({'Year':incident.index, 'Incident Count':incident.values})\n",
    "incident_df"
   ]
  },
  {
   "cell_type": "code",
   "execution_count": 21,
   "metadata": {},
   "outputs": [
    {
     "data": {
      "image/png": "[encoded data removed]",
      "text/plain": [
       "<Figure size 432x288 with 1 Axes>"
      ]
     },
     "metadata": {
      "needs_background": "light"
     },
     "output_type": "display_data"
    }
   ],
   "source": [
    "#Generate seaborn bar plot - Year vs Fire Incidents\n",
    "incident_barplot = sbn.barplot(x=incident_df[\"Year\"].astype(np.int64), y=incident_df[\"Incident Count\"], data=incident_df, color='orangered', alpha=0.8)\n",
    "incident_barplot.set(ylabel='Incident Count')\n",
    "plt.title('Year vs Fire Incidents')\n",
    "plt.savefig('bar_year_vs_fireincidents.png', bbox_inches='tight')\n",
    "plt.show()"
   ]
  },
  {
   "cell_type": "code",
   "execution_count": 22,
   "metadata": {},
   "outputs": [
    {
     "data": {
      "text/html": [
       "<div>\n",
       "<style scoped>\n",
       "    .dataframe tbody tr th:only-of-type {\n",
       "        vertical-align: middle;\n",
       "    }\n",
       "\n",
       "    .dataframe tbody tr th {\n",
       "        vertical-align: top;\n",
       "    }\n",
       "\n",
       "    .dataframe thead th {\n",
       "        text-align: right;\n",
       "    }\n",
       "</style>\n",
       "<table border=\"1\" class=\"dataframe\">\n",
       "  <thead>\n",
       "    <tr style=\"text-align: right;\">\n",
       "      <th></th>\n",
       "      <th>Year</th>\n",
       "      <th>Incident Count</th>\n",
       "      <th>Incident Count/100</th>\n",
       "    </tr>\n",
       "  </thead>\n",
       "  <tbody>\n",
       "    <tr>\n",
       "      <th>0</th>\n",
       "      <td>2008.0</td>\n",
       "      <td>13705</td>\n",
       "      <td>137.05</td>\n",
       "    </tr>\n",
       "    <tr>\n",
       "      <th>1</th>\n",
       "      <td>2009.0</td>\n",
       "      <td>13028</td>\n",
       "      <td>130.28</td>\n",
       "    </tr>\n",
       "    <tr>\n",
       "      <th>2</th>\n",
       "      <td>2010.0</td>\n",
       "      <td>13531</td>\n",
       "      <td>135.31</td>\n",
       "    </tr>\n",
       "    <tr>\n",
       "      <th>3</th>\n",
       "      <td>2011.0</td>\n",
       "      <td>13893</td>\n",
       "      <td>138.93</td>\n",
       "    </tr>\n",
       "    <tr>\n",
       "      <th>4</th>\n",
       "      <td>2012.0</td>\n",
       "      <td>13607</td>\n",
       "      <td>136.07</td>\n",
       "    </tr>\n",
       "    <tr>\n",
       "      <th>5</th>\n",
       "      <td>2013.0</td>\n",
       "      <td>13943</td>\n",
       "      <td>139.43</td>\n",
       "    </tr>\n",
       "    <tr>\n",
       "      <th>6</th>\n",
       "      <td>2014.0</td>\n",
       "      <td>14415</td>\n",
       "      <td>144.15</td>\n",
       "    </tr>\n",
       "    <tr>\n",
       "      <th>7</th>\n",
       "      <td>2015.0</td>\n",
       "      <td>15130</td>\n",
       "      <td>151.30</td>\n",
       "    </tr>\n",
       "    <tr>\n",
       "      <th>8</th>\n",
       "      <td>2016.0</td>\n",
       "      <td>15746</td>\n",
       "      <td>157.46</td>\n",
       "    </tr>\n",
       "    <tr>\n",
       "      <th>9</th>\n",
       "      <td>2017.0</td>\n",
       "      <td>18151</td>\n",
       "      <td>181.51</td>\n",
       "    </tr>\n",
       "    <tr>\n",
       "      <th>10</th>\n",
       "      <td>2018.0</td>\n",
       "      <td>14654</td>\n",
       "      <td>146.54</td>\n",
       "    </tr>\n",
       "  </tbody>\n",
       "</table>\n",
       "</div>"
      ],
      "text/plain": [
       "      Year  Incident Count  Incident Count/100\n",
       "0   2008.0           13705              137.05\n",
       "1   2009.0           13028              130.28\n",
       "2   2010.0           13531              135.31\n",
       "3   2011.0           13893              138.93\n",
       "4   2012.0           13607              136.07\n",
       "5   2013.0           13943              139.43\n",
       "6   2014.0           14415              144.15\n",
       "7   2015.0           15130              151.30\n",
       "8   2016.0           15746              157.46\n",
       "9   2017.0           18151              181.51\n",
       "10  2018.0           14654              146.54"
      ]
     },
     "execution_count": 22,
     "metadata": {},
     "output_type": "execute_result"
    }
   ],
   "source": [
    "#Scaled fire incidents to hundreds\n",
    "incident_scaled100 = incident_df['Incident Count']/100\n",
    "incident_df['Incident Count/100'] = incident_scaled100\n",
    "incident_df"
   ]
  },
  {
   "cell_type": "code",
   "execution_count": 23,
   "metadata": {},
   "outputs": [],
   "source": [
    "#Save Wake County Population Data to csv file\n",
    "incident_df.to_csv('fireincident.csv', encoding='utf-8', index=False)"
   ]
  },
  {
   "cell_type": "code",
   "execution_count": 24,
   "metadata": {},
   "outputs": [],
   "source": [
    "# Read the Wake County Population and Fire Incidents CSVs\n",
    "wakecountypop_to_load = pd.read_csv('wakecountypopulation.csv')\n",
    "firecincident_to_load = pd.read_csv('fireincident.csv')"
   ]
  },
  {
   "cell_type": "code",
   "execution_count": 25,
   "metadata": {},
   "outputs": [
    {
     "data": {
      "text/html": [
       "<div>\n",
       "<style scoped>\n",
       "    .dataframe tbody tr th:only-of-type {\n",
       "        vertical-align: middle;\n",
       "    }\n",
       "\n",
       "    .dataframe tbody tr th {\n",
       "        vertical-align: top;\n",
       "    }\n",
       "\n",
       "    .dataframe thead th {\n",
       "        text-align: right;\n",
       "    }\n",
       "</style>\n",
       "<table border=\"1\" class=\"dataframe\">\n",
       "  <thead>\n",
       "    <tr style=\"text-align: right;\">\n",
       "      <th></th>\n",
       "      <th>Year</th>\n",
       "      <th>Population</th>\n",
       "    </tr>\n",
       "  </thead>\n",
       "  <tbody>\n",
       "    <tr>\n",
       "      <th>0</th>\n",
       "      <td>2009</td>\n",
       "      <td>828759.0</td>\n",
       "    </tr>\n",
       "    <tr>\n",
       "      <th>1</th>\n",
       "      <td>2010</td>\n",
       "      <td>850546.0</td>\n",
       "    </tr>\n",
       "    <tr>\n",
       "      <th>2</th>\n",
       "      <td>2011</td>\n",
       "      <td>879658.0</td>\n",
       "    </tr>\n",
       "    <tr>\n",
       "      <th>3</th>\n",
       "      <td>2012</td>\n",
       "      <td>905573.0</td>\n",
       "    </tr>\n",
       "    <tr>\n",
       "      <th>4</th>\n",
       "      <td>2013</td>\n",
       "      <td>929214.0</td>\n",
       "    </tr>\n",
       "    <tr>\n",
       "      <th>5</th>\n",
       "      <td>2014</td>\n",
       "      <td>952513.0</td>\n",
       "    </tr>\n",
       "    <tr>\n",
       "      <th>6</th>\n",
       "      <td>2015</td>\n",
       "      <td>976019.0</td>\n",
       "    </tr>\n",
       "    <tr>\n",
       "      <th>7</th>\n",
       "      <td>2016</td>\n",
       "      <td>998576.0</td>\n",
       "    </tr>\n",
       "    <tr>\n",
       "      <th>8</th>\n",
       "      <td>2017</td>\n",
       "      <td>1023811.0</td>\n",
       "    </tr>\n",
       "    <tr>\n",
       "      <th>9</th>\n",
       "      <td>2018</td>\n",
       "      <td>1048192.5</td>\n",
       "    </tr>\n",
       "    <tr>\n",
       "      <th>10</th>\n",
       "      <td>2019</td>\n",
       "      <td>1072574.0</td>\n",
       "    </tr>\n",
       "    <tr>\n",
       "      <th>11</th>\n",
       "      <td>2020</td>\n",
       "      <td>1096955.5</td>\n",
       "    </tr>\n",
       "    <tr>\n",
       "      <th>12</th>\n",
       "      <td>2021</td>\n",
       "      <td>1121337.0</td>\n",
       "    </tr>\n",
       "    <tr>\n",
       "      <th>13</th>\n",
       "      <td>2022</td>\n",
       "      <td>1145718.5</td>\n",
       "    </tr>\n",
       "  </tbody>\n",
       "</table>\n",
       "</div>"
      ],
      "text/plain": [
       "    Year  Population\n",
       "0   2009    828759.0\n",
       "1   2010    850546.0\n",
       "2   2011    879658.0\n",
       "3   2012    905573.0\n",
       "4   2013    929214.0\n",
       "5   2014    952513.0\n",
       "6   2015    976019.0\n",
       "7   2016    998576.0\n",
       "8   2017   1023811.0\n",
       "9   2018   1048192.5\n",
       "10  2019   1072574.0\n",
       "11  2020   1096955.5\n",
       "12  2021   1121337.0\n",
       "13  2022   1145718.5"
      ]
     },
     "execution_count": 25,
     "metadata": {},
     "output_type": "execute_result"
    }
   ],
   "source": [
    "wakecountypop_to_load"
   ]
  },
  {
   "cell_type": "code",
   "execution_count": 26,
   "metadata": {},
   "outputs": [
    {
     "data": {
      "text/html": [
       "<div>\n",
       "<style scoped>\n",
       "    .dataframe tbody tr th:only-of-type {\n",
       "        vertical-align: middle;\n",
       "    }\n",
       "\n",
       "    .dataframe tbody tr th {\n",
       "        vertical-align: top;\n",
       "    }\n",
       "\n",
       "    .dataframe thead th {\n",
       "        text-align: right;\n",
       "    }\n",
       "</style>\n",
       "<table border=\"1\" class=\"dataframe\">\n",
       "  <thead>\n",
       "    <tr style=\"text-align: right;\">\n",
       "      <th></th>\n",
       "      <th>Year</th>\n",
       "      <th>Population/1000</th>\n",
       "      <th>Incident Count/100</th>\n",
       "    </tr>\n",
       "  </thead>\n",
       "  <tbody>\n",
       "    <tr>\n",
       "      <th>0</th>\n",
       "      <td>2008.0</td>\n",
       "      <td>828.7590</td>\n",
       "      <td>137.05</td>\n",
       "    </tr>\n",
       "    <tr>\n",
       "      <th>1</th>\n",
       "      <td>2009.0</td>\n",
       "      <td>850.5460</td>\n",
       "      <td>130.28</td>\n",
       "    </tr>\n",
       "    <tr>\n",
       "      <th>2</th>\n",
       "      <td>2010.0</td>\n",
       "      <td>879.6580</td>\n",
       "      <td>135.31</td>\n",
       "    </tr>\n",
       "    <tr>\n",
       "      <th>3</th>\n",
       "      <td>2011.0</td>\n",
       "      <td>905.5730</td>\n",
       "      <td>138.93</td>\n",
       "    </tr>\n",
       "    <tr>\n",
       "      <th>4</th>\n",
       "      <td>2012.0</td>\n",
       "      <td>929.2140</td>\n",
       "      <td>136.07</td>\n",
       "    </tr>\n",
       "    <tr>\n",
       "      <th>5</th>\n",
       "      <td>2013.0</td>\n",
       "      <td>952.5130</td>\n",
       "      <td>139.43</td>\n",
       "    </tr>\n",
       "    <tr>\n",
       "      <th>6</th>\n",
       "      <td>2014.0</td>\n",
       "      <td>976.0190</td>\n",
       "      <td>144.15</td>\n",
       "    </tr>\n",
       "    <tr>\n",
       "      <th>7</th>\n",
       "      <td>2015.0</td>\n",
       "      <td>998.5760</td>\n",
       "      <td>151.30</td>\n",
       "    </tr>\n",
       "    <tr>\n",
       "      <th>8</th>\n",
       "      <td>2016.0</td>\n",
       "      <td>1023.8110</td>\n",
       "      <td>157.46</td>\n",
       "    </tr>\n",
       "    <tr>\n",
       "      <th>9</th>\n",
       "      <td>2017.0</td>\n",
       "      <td>1048.1925</td>\n",
       "      <td>181.51</td>\n",
       "    </tr>\n",
       "    <tr>\n",
       "      <th>10</th>\n",
       "      <td>2018.0</td>\n",
       "      <td>1072.5740</td>\n",
       "      <td>146.54</td>\n",
       "    </tr>\n",
       "  </tbody>\n",
       "</table>\n",
       "</div>"
      ],
      "text/plain": [
       "      Year  Population/1000  Incident Count/100\n",
       "0   2008.0         828.7590              137.05\n",
       "1   2009.0         850.5460              130.28\n",
       "2   2010.0         879.6580              135.31\n",
       "3   2011.0         905.5730              138.93\n",
       "4   2012.0         929.2140              136.07\n",
       "5   2013.0         952.5130              139.43\n",
       "6   2014.0         976.0190              144.15\n",
       "7   2015.0         998.5760              151.30\n",
       "8   2016.0        1023.8110              157.46\n",
       "9   2017.0        1048.1925              181.51\n",
       "10  2018.0        1072.5740              146.54"
      ]
     },
     "execution_count": 26,
     "metadata": {},
     "output_type": "execute_result"
    }
   ],
   "source": [
    "# Combine the data into a single dataset\n",
    "wakecountypop_incident_df = pd.merge(wakecountypop_to_load, firecincident_to_load, how='left', on='Year')\n",
    "\n",
    "# Display the data table for preview\n",
    "wakecountypop_incident_df\n",
    "wakecountypop_incident_df.dropna()\n",
    "scaled1k_pop = wakecountypop_incident_df['Population']/1000\n",
    "wakecountypop_incident_df['Population/1000'] = scaled1k_pop\n",
    "wakecountypop_incident_df.dropna()\n",
    "yr_scaled = incident_df['Year'].astype(np.int64)\n",
    "\n",
    "#Create data frame to hold city weather data\n",
    "column_names = ('Year', 'Population/1000', 'Incident Count/100')\n",
    "wakecountypop_incident_scaled = pd.DataFrame(columns = column_names)\n",
    "wakecountypop_incident_scaled['Population/1000'] = scaled1k_pop\n",
    "wakecountypop_incident_scaled['Incident Count/100'] = incident_scaled100\n",
    "wakecountypop_incident_scaled[\"Year\"] = yr_scaled.astype(np.int64)\n",
    "cleaned_wakecounty_scaled = wakecountypop_incident_scaled.dropna()\n",
    "cleaned_wakecounty_scaled"
   ]
  },
  {
   "cell_type": "code",
   "execution_count": 27,
   "metadata": {},
   "outputs": [],
   "source": [
    "#Save to CSV - wake county scaled data\n",
    "cleaned_wakecounty_scaled.to_csv('cleaned_wakecounty_scaled.csv', encoding='utf-8', index=False)"
   ]
  },
  {
   "cell_type": "code",
   "execution_count": 28,
   "metadata": {},
   "outputs": [
    {
     "data": {
      "image/png": "[encoded data removed]",
      "text/plain": [
       "<Figure size 432x288 with 1 Axes>"
      ]
     },
     "metadata": {},
     "output_type": "display_data"
    }
   ],
   "source": [
    "#Generate seaborn line plot - Year vs Wake County Population/Fire Incidents\n",
    "sbn.set(style = 'darkgrid')\n",
    "pop_plot = sbn.lineplot(x=cleaned_wakecounty_scaled[\"Year\"], y=cleaned_wakecounty_scaled[\"Population/1000\"], data=cleaned_wakecounty_scaled, label='Population(in thousands)', color='green')\n",
    "inc_plot = sbn.lineplot(x=cleaned_wakecounty_scaled[\"Year\"].astype(np.int64), y=cleaned_wakecounty_scaled[\"Incident Count/100\"], data=cleaned_wakecounty_scaled, label='Fire Incidents(in hundreds)', color='orangered') \n",
    "inc_plot.set(ylabel='Incident / Population Count')\n",
    "plt.title('Year vs Wake County Population and Fire Incidents')\n",
    "plt.savefig('line_year_vs_wakecounty_pop_inc.png', bbox_inches='tight')\n",
    "plt.show()"
   ]
  },
  {
   "cell_type": "code",
   "execution_count": 29,
   "metadata": {},
   "outputs": [
    {
     "data": {
      "image/png": "[encoded data removed]",
      "text/plain": [
       "<Figure size 432x288 with 1 Axes>"
      ]
     },
     "metadata": {},
     "output_type": "display_data"
    }
   ],
   "source": [
    "#Generate seaborn bar plot - Year vs Wake County Population\n",
    "wakecountypopulation_barplot = sbn.barplot(x=wakecountypop_to_load[\"Year\"].astype(np.int64), y=wakecountypop_to_load[\"Population\"], data=wakecountypop_to_load, color='green', alpha=0.8)\n",
    "plt.title('Year vs Wake County Population')\n",
    "wakecountypopulation_barplot.set(ylabel='Population Count')\n",
    "plt.text(14,500000, '2018 and up are forecasted values')\n",
    "plt.text(14,400000, 'Source: Open Data Network')\n",
    "plt.savefig('bar_year_vs_wakecounty_pop.png', bbox_inches='tight')\n",
    "plt.show()"
   ]
  },
  {
   "cell_type": "code",
   "execution_count": null,
   "metadata": {},
   "outputs": [],
   "source": [
    "#Generate seaborn bar plot - Year vs Wake County Population/Fire Incidents\n",
    "pop_barplot = sbn.barplot(x=cleaned_wakecounty_scaled[\"Year\"].astype(np.int64), y=cleaned_wakecounty_scaled[\"Population/1000\"], data=cleaned_wakecounty_scaled, color='green', alpha=0.8)\n",
    "inc_barplot = sbn.barplot(x=cleaned_wakecounty_scaled[\"Year\"].astype(np.int64), y=cleaned_wakecounty_scaled[\"Incident Count/100\"], data=cleaned_wakecounty_scaled, color='orangered', alpha=0.8)\n",
    "inc_barplot.set(ylabel='Fire Incidents / Population Count')\n",
    "plt.title('Year vs Wake County Population and Fire Incidents')\n",
    "plt.text(10.9,500, 'Wake County Population(in thousands)')\n",
    "plt.text(10.9,45, 'Fire Incidents(in hundreds)')\n",
    "plt.savefig('bar_year_vs_wakecounty_pop_inc.png', bbox_inches='tight')\n",
    "plt.show()"
   ]
  },
  {
   "cell_type": "code",
   "execution_count": null,
   "metadata": {},
   "outputs": [],
   "source": []
  },
  {
   "cell_type": "code",
   "execution_count": null,
   "metadata": {},
   "outputs": [],
   "source": []
  },
  {
   "cell_type": "code",
   "execution_count": null,
   "metadata": {},
   "outputs": [],
   "source": []
  }
 ],
 "metadata": {
  "kernelspec": {
   "display_name": "Python 3",
   "language": "python",
   "name": "python3"
  },
  "language_info": {
   "codemirror_mode": {
    "name": "ipython",
    "version": 3
   },
   "file_extension": ".py",
   "mimetype": "text/x-python",
   "name": "python",
   "nbconvert_exporter": "python",
   "pygments_lexer": "ipython3",
   "version": "3.6.6"
  }
 },
 "nbformat": 4,
 "nbformat_minor": 2
}
