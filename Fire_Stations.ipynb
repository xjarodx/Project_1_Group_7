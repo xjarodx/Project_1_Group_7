{
 "cells": [
  {
   "cell_type": "markdown",
   "metadata": {},
   "source": [
    "# Raleigh FD stations report"
   ]
  },
  {
   "cell_type": "code",
   "execution_count": 3,
   "metadata": {},
   "outputs": [],
   "source": [
    "%matplotlib inline"
   ]
  },
  {
   "cell_type": "code",
   "execution_count": 41,
   "metadata": {},
   "outputs": [
    {
     "ename": "ModuleNotFoundError",
     "evalue": "No module named 'config'",
     "output_type": "error",
     "traceback": [
      "\u001b[1;31m---------------------------------------------------------------------------\u001b[0m",
      "\u001b[1;31mModuleNotFoundError\u001b[0m                       Traceback (most recent call last)",
      "\u001b[1;32m<ipython-input-1-e2463ea72190>\u001b[0m in \u001b[0;36m<module>\u001b[1;34m()\u001b[0m\n\u001b[0;32m      8\u001b[0m \u001b[1;32mimport\u001b[0m \u001b[0mgmaps\u001b[0m\u001b[1;33m\u001b[0m\u001b[0m\n\u001b[0;32m      9\u001b[0m \u001b[1;32mimport\u001b[0m \u001b[0mgmaps\u001b[0m\u001b[1;33m.\u001b[0m\u001b[0mdatasets\u001b[0m\u001b[1;33m\u001b[0m\u001b[0m\n\u001b[1;32m---> 10\u001b[1;33m \u001b[1;32mfrom\u001b[0m \u001b[0mconfig\u001b[0m \u001b[1;32mimport\u001b[0m \u001b[0mgkey\u001b[0m\u001b[1;33m\u001b[0m\u001b[0m\n\u001b[0m\u001b[0;32m     11\u001b[0m \u001b[1;32mimport\u001b[0m \u001b[0mwarnings\u001b[0m\u001b[1;33m\u001b[0m\u001b[0m\n\u001b[0;32m     12\u001b[0m \u001b[0mwarnings\u001b[0m\u001b[1;33m.\u001b[0m\u001b[0msimplefilter\u001b[0m\u001b[1;33m(\u001b[0m\u001b[0maction\u001b[0m\u001b[1;33m=\u001b[0m\u001b[1;34m'ignore'\u001b[0m\u001b[1;33m,\u001b[0m \u001b[0mcategory\u001b[0m\u001b[1;33m=\u001b[0m\u001b[0mFutureWarning\u001b[0m\u001b[1;33m)\u001b[0m\u001b[1;33m\u001b[0m\u001b[0m\n",
      "\u001b[1;31mModuleNotFoundError\u001b[0m: No module named 'config'"
     ]
    }
   ],
   "source": [
    "import time\n",
    "import pandas as pd\n",
    "import numpy as np\n",
    "import matplotlib.pyplot as plt\n",
    "from datetime import date\n",
    "import seaborn as sns\n",
    "from scipy import stats\n",
    "import gmaps\n",
    "import gmaps.datasets\n",
    "# from config import gkey\n",
    "import warnings\n",
    "warnings.simplefilter(action='ignore', category=FutureWarning)\n",
    "sns.set_palette(\"colorblind\")"
   ]
  },
  {
   "cell_type": "markdown",
   "metadata": {},
   "source": [
    "## Importing and cleaning data for reports on year, station\n",
    "- API Calls were performed in FireDataAPI\n",
    "- The main dataset and one that consistently failed in the loop (records 122000-123999) were merged into one in FireDatacsv.\n",
    "- The merged dataset was cleaned of any nulls in 'incident type' code\n",
    "- Importing that combined data for analysis"
   ]
  },
  {
   "cell_type": "markdown",
   "metadata": {},
   "source": [
    "##### Importing the cleaned/combined data from the csv with the years 2008-2018"
   ]
  },
  {
   "cell_type": "code",
   "execution_count": 42,
   "metadata": {},
   "outputs": [
    {
     "data": {
      "text/plain": [
       "158423"
      ]
     },
     "execution_count": 42,
     "metadata": {},
     "output_type": "execute_result"
    }
   ],
   "source": [
    "firefile = './output/all_with_no_incident_nulls.csv'\n",
    "df = pd.read_csv(firefile, skip_blank_lines=True, encoding='UTF-8',low_memory=False)\n",
    "len(df)"
   ]
  },
  {
   "cell_type": "markdown",
   "metadata": {},
   "source": [
    "##### Reformatting the dates to datetime "
   ]
  },
  {
   "cell_type": "code",
   "execution_count": 43,
   "metadata": {},
   "outputs": [
    {
     "data": {
      "text/plain": [
       "GlobalID                             object\n",
       "OBJECTID                              int64\n",
       "address                              object\n",
       "address2                             object\n",
       "apt_room                             object\n",
       "arrive_date_time             datetime64[ns]\n",
       "cleared_date_time            datetime64[ns]\n",
       "dispatch_date_time           datetime64[ns]\n",
       "exposure                              int64\n",
       "incident_number                      object\n",
       "incident_type                       float64\n",
       "incident_type_description            object\n",
       "platoon                              object\n",
       "station                             float64\n",
       "Longitude                           float64\n",
       "Latitude                            float64\n",
       "Year                                  int64\n",
       "Date                                 object\n",
       "dtype: object"
      ]
     },
     "execution_count": 43,
     "metadata": {},
     "output_type": "execute_result"
    }
   ],
   "source": [
    "df['arrive_date_time'] = pd.to_datetime(df['arrive_date_time'])\n",
    "df['cleared_date_time'] = pd.to_datetime(df['cleared_date_time'])\n",
    "df['dispatch_date_time'] = pd.to_datetime(df['dispatch_date_time'])\n",
    "df.dtypes"
   ]
  },
  {
   "cell_type": "markdown",
   "metadata": {},
   "source": [
    "##### Getting rid of the decimal in the year column, an artifact of the export perhaps"
   ]
  },
  {
   "cell_type": "code",
   "execution_count": 44,
   "metadata": {},
   "outputs": [],
   "source": [
    "df['Year'] = df['Year'].astype(float).map(\"{:.0f}\".format)"
   ]
  },
  {
   "cell_type": "markdown",
   "metadata": {},
   "source": [
    "##### The total number of rows with the years 2008-2018 and incident type not null"
   ]
  },
  {
   "cell_type": "code",
   "execution_count": 45,
   "metadata": {},
   "outputs": [
    {
     "data": {
      "text/plain": [
       "158423"
      ]
     },
     "execution_count": 45,
     "metadata": {},
     "output_type": "execute_result"
    }
   ],
   "source": [
    "len(df.loc[df['incident_type'].notnull()])"
   ]
  },
  {
   "cell_type": "markdown",
   "metadata": {},
   "source": [
    "# Fire station analysis"
   ]
  },
  {
   "cell_type": "markdown",
   "metadata": {},
   "source": [
    "##### Adding a column with the time from dispatch to cleared in seconds"
   ]
  },
  {
   "cell_type": "code",
   "execution_count": 46,
   "metadata": {},
   "outputs": [
    {
     "data": {
      "text/html": [
       "<div>\n",
       "<style scoped>\n",
       "    .dataframe tbody tr th:only-of-type {\n",
       "        vertical-align: middle;\n",
       "    }\n",
       "\n",
       "    .dataframe tbody tr th {\n",
       "        vertical-align: top;\n",
       "    }\n",
       "\n",
       "    .dataframe thead th {\n",
       "        text-align: right;\n",
       "    }\n",
       "</style>\n",
       "<table border=\"1\" class=\"dataframe\">\n",
       "  <thead>\n",
       "    <tr style=\"text-align: right;\">\n",
       "      <th></th>\n",
       "      <th>GlobalID</th>\n",
       "      <th>OBJECTID</th>\n",
       "      <th>address</th>\n",
       "      <th>address2</th>\n",
       "      <th>apt_room</th>\n",
       "      <th>arrive_date_time</th>\n",
       "      <th>cleared_date_time</th>\n",
       "      <th>dispatch_date_time</th>\n",
       "      <th>exposure</th>\n",
       "      <th>incident_number</th>\n",
       "      <th>incident_type</th>\n",
       "      <th>incident_type_description</th>\n",
       "      <th>platoon</th>\n",
       "      <th>station</th>\n",
       "      <th>Longitude</th>\n",
       "      <th>Latitude</th>\n",
       "      <th>Year</th>\n",
       "      <th>Date</th>\n",
       "      <th>Seconds</th>\n",
       "    </tr>\n",
       "  </thead>\n",
       "  <tbody>\n",
       "    <tr>\n",
       "      <th>0</th>\n",
       "      <td>eb6f5e12-dec5-4f55-9746-d2867a13d9e6</td>\n",
       "      <td>474769</td>\n",
       "      <td>8332 SHILOH CREEK CT RALEIGH, NC 27603</td>\n",
       "      <td>NaN</td>\n",
       "      <td></td>\n",
       "      <td>2013-10-19 21:52:00</td>\n",
       "      <td>2013-10-19 21:59:00</td>\n",
       "      <td>2013-10-19 21:47:00</td>\n",
       "      <td>0</td>\n",
       "      <td>13-0030918</td>\n",
       "      <td>150.0</td>\n",
       "      <td>Outside rubbish fire Other</td>\n",
       "      <td>B</td>\n",
       "      <td>22.0</td>\n",
       "      <td>-78.537320</td>\n",
       "      <td>35.891622</td>\n",
       "      <td>2013</td>\n",
       "      <td>2013-10-19</td>\n",
       "      <td>300.0</td>\n",
       "    </tr>\n",
       "    <tr>\n",
       "      <th>1</th>\n",
       "      <td>8df5e743-2b41-4b22-9012-6e8cbe9327e2</td>\n",
       "      <td>474770</td>\n",
       "      <td>7513 IDOLBROOK LN RALEIGH, NC 27615</td>\n",
       "      <td>NaN</td>\n",
       "      <td></td>\n",
       "      <td>2014-02-14 21:49:00</td>\n",
       "      <td>2014-02-14 21:51:00</td>\n",
       "      <td>2014-02-14 21:46:00</td>\n",
       "      <td>0</td>\n",
       "      <td>14-0004846</td>\n",
       "      <td>510.0</td>\n",
       "      <td>Person in distress Other</td>\n",
       "      <td>A</td>\n",
       "      <td>4.0</td>\n",
       "      <td>-78.647631</td>\n",
       "      <td>35.878186</td>\n",
       "      <td>2014</td>\n",
       "      <td>2014-02-14</td>\n",
       "      <td>180.0</td>\n",
       "    </tr>\n",
       "  </tbody>\n",
       "</table>\n",
       "</div>"
      ],
      "text/plain": [
       "                               GlobalID  OBJECTID  \\\n",
       "0  eb6f5e12-dec5-4f55-9746-d2867a13d9e6    474769   \n",
       "1  8df5e743-2b41-4b22-9012-6e8cbe9327e2    474770   \n",
       "\n",
       "                                  address address2         apt_room  \\\n",
       "0  8332 SHILOH CREEK CT RALEIGH, NC 27603      NaN                    \n",
       "1     7513 IDOLBROOK LN RALEIGH, NC 27615      NaN                    \n",
       "\n",
       "     arrive_date_time   cleared_date_time  dispatch_date_time  exposure  \\\n",
       "0 2013-10-19 21:52:00 2013-10-19 21:59:00 2013-10-19 21:47:00         0   \n",
       "1 2014-02-14 21:49:00 2014-02-14 21:51:00 2014-02-14 21:46:00         0   \n",
       "\n",
       "  incident_number  incident_type   incident_type_description platoon  station  \\\n",
       "0      13-0030918          150.0  Outside rubbish fire Other       B     22.0   \n",
       "1      14-0004846          510.0    Person in distress Other       A      4.0   \n",
       "\n",
       "   Longitude   Latitude  Year        Date  Seconds  \n",
       "0 -78.537320  35.891622  2013  2013-10-19    300.0  \n",
       "1 -78.647631  35.878186  2014  2014-02-14    180.0  "
      ]
     },
     "execution_count": 46,
     "metadata": {},
     "output_type": "execute_result"
    }
   ],
   "source": [
    "arr_time = (df['arrive_date_time'] - df['dispatch_date_time'])\n",
    "arr_time = pd.to_timedelta(arr_time)\n",
    "df['Seconds'] = arr_time.dt.total_seconds()\n",
    "df.head(2)"
   ]
  },
  {
   "cell_type": "code",
   "execution_count": 47,
   "metadata": {},
   "outputs": [
    {
     "data": {
      "text/plain": [
       "36"
      ]
     },
     "execution_count": 47,
     "metadata": {},
     "output_type": "execute_result"
    }
   ],
   "source": [
    "# Getting rid of the 38 entries that have no station assigned\n",
    "dfs = df.loc[df['station'].notnull()]\n",
    "\n",
    "# Return the count of records scrubbed\n",
    "len(df.loc[df['station'].isna()])"
   ]
  },
  {
   "cell_type": "code",
   "execution_count": 48,
   "metadata": {},
   "outputs": [],
   "source": [
    "# Getting rid of the ugly decimal in the station number by converting to a string\n",
    "pd.options.mode.chained_assignment = None\n",
    "dfs['station'] = dfs['station'].astype(int)"
   ]
  },
  {
   "cell_type": "markdown",
   "metadata": {},
   "source": [
    "## Station response time"
   ]
  },
  {
   "cell_type": "markdown",
   "metadata": {},
   "source": [
    "### Removed records with no arrival time"
   ]
  },
  {
   "cell_type": "code",
   "execution_count": 49,
   "metadata": {},
   "outputs": [
    {
     "name": "stdout",
     "output_type": "stream",
     "text": [
      "Dispatched & cancelled en route\n",
      "False alarm or false call Other\n",
      "Cover assignment standby moveup\n",
      "Alarm system sounded due to malfunction\n",
      "Service Call other\n",
      "Dispatched & cancelled en route                   \n"
     ]
    }
   ],
   "source": [
    "# Getting rid of entries with no arrive time.\n",
    "# These fell into six categories, none of which were measurable incidents\n",
    "dfn = dfs.loc[dfs['arrive_date_time'].isna()]\n",
    "no_time = dfn['incident_type_description'].unique()\n",
    "\n",
    "for item in no_time:\n",
    "    print(item)"
   ]
  },
  {
   "cell_type": "code",
   "execution_count": 50,
   "metadata": {},
   "outputs": [
    {
     "data": {
      "text/plain": [
       "128714"
      ]
     },
     "execution_count": 50,
     "metadata": {},
     "output_type": "execute_result"
    }
   ],
   "source": [
    "dfst = dfs.loc[dfs['arrive_date_time'].notnull()]\n",
    "len(dfst)"
   ]
  },
  {
   "cell_type": "code",
   "execution_count": 51,
   "metadata": {},
   "outputs": [],
   "source": [
    "dfst = dfst.loc[dfst['station']!=13]"
   ]
  },
  {
   "cell_type": "code",
   "execution_count": 52,
   "metadata": {},
   "outputs": [],
   "source": [
    "# There appear to be some funky clearance times, possibly human error\n",
    "outliers = dfst[dfst['Seconds'] > dfst['Seconds'].mean() + 3 * dfst['Seconds'].std()]\n",
    "no_outliers = dfst[dfst['Seconds'] <= dfst['Seconds'].mean() + 3 * dfst['Seconds'].std()]"
   ]
  },
  {
   "cell_type": "code",
   "execution_count": 53,
   "metadata": {},
   "outputs": [
    {
     "data": {
      "text/plain": [
       "58"
      ]
     },
     "execution_count": 53,
     "metadata": {},
     "output_type": "execute_result"
    }
   ],
   "source": [
    "len(outliers)"
   ]
  },
  {
   "cell_type": "code",
   "execution_count": 54,
   "metadata": {},
   "outputs": [
    {
     "data": {
      "text/plain": [
       "128655"
      ]
     },
     "execution_count": 54,
     "metadata": {},
     "output_type": "execute_result"
    }
   ],
   "source": [
    "len(no_outliers)"
   ]
  },
  {
   "cell_type": "code",
   "execution_count": 55,
   "metadata": {},
   "outputs": [
    {
     "data": {
      "text/html": [
       "<div>\n",
       "<style scoped>\n",
       "    .dataframe tbody tr th:only-of-type {\n",
       "        vertical-align: middle;\n",
       "    }\n",
       "\n",
       "    .dataframe tbody tr th {\n",
       "        vertical-align: top;\n",
       "    }\n",
       "\n",
       "    .dataframe thead th {\n",
       "        text-align: right;\n",
       "    }\n",
       "</style>\n",
       "<table border=\"1\" class=\"dataframe\">\n",
       "  <thead>\n",
       "    <tr style=\"text-align: right;\">\n",
       "      <th></th>\n",
       "      <th>GlobalID</th>\n",
       "      <th>OBJECTID</th>\n",
       "      <th>address</th>\n",
       "      <th>address2</th>\n",
       "      <th>apt_room</th>\n",
       "      <th>arrive_date_time</th>\n",
       "      <th>cleared_date_time</th>\n",
       "      <th>dispatch_date_time</th>\n",
       "      <th>exposure</th>\n",
       "      <th>incident_number</th>\n",
       "      <th>incident_type</th>\n",
       "      <th>incident_type_description</th>\n",
       "      <th>platoon</th>\n",
       "      <th>station</th>\n",
       "      <th>Longitude</th>\n",
       "      <th>Latitude</th>\n",
       "      <th>Year</th>\n",
       "      <th>Date</th>\n",
       "      <th>Seconds</th>\n",
       "    </tr>\n",
       "  </thead>\n",
       "  <tbody>\n",
       "    <tr>\n",
       "      <th>126856</th>\n",
       "      <td>955dca87-3b15-4930-869d-cf4dbbf2fb5b</td>\n",
       "      <td>620940</td>\n",
       "      <td>120 S WILMINGTON ST RALEIGH, NC 27601</td>\n",
       "      <td>PARKING DECK ALEXANDER SQUARE</td>\n",
       "      <td></td>\n",
       "      <td>2017-01-14 04:48:00</td>\n",
       "      <td>2017-01-14 04:55:00</td>\n",
       "      <td>2017-01-14 04:46:00</td>\n",
       "      <td>0</td>\n",
       "      <td>17-0001522</td>\n",
       "      <td>700.0</td>\n",
       "      <td>False alarm or false call Other</td>\n",
       "      <td>C</td>\n",
       "      <td>1</td>\n",
       "      <td>-78.638214</td>\n",
       "      <td>35.778893</td>\n",
       "      <td>2017</td>\n",
       "      <td>2017-01-14</td>\n",
       "      <td>120.0</td>\n",
       "    </tr>\n",
       "    <tr>\n",
       "      <th>15797</th>\n",
       "      <td>98041c4d-8fd2-405e-b5ba-baf1ced9289a</td>\n",
       "      <td>492895</td>\n",
       "      <td>734 S PERSON ST RALEIGH, NC 27601</td>\n",
       "      <td>NaN</td>\n",
       "      <td></td>\n",
       "      <td>2012-10-13 00:37:00</td>\n",
       "      <td>2012-10-13 00:47:00</td>\n",
       "      <td>2012-10-13 00:34:00</td>\n",
       "      <td>0</td>\n",
       "      <td>12-0029658</td>\n",
       "      <td>710.0</td>\n",
       "      <td>Malicious mischievous false call Other</td>\n",
       "      <td>A</td>\n",
       "      <td>1</td>\n",
       "      <td>-78.635323</td>\n",
       "      <td>35.771454</td>\n",
       "      <td>2012</td>\n",
       "      <td>2012-10-13</td>\n",
       "      <td>180.0</td>\n",
       "    </tr>\n",
       "    <tr>\n",
       "      <th>123595</th>\n",
       "      <td>158e80ce-e2cc-41e5-a7f2-67a2d3ab191f</td>\n",
       "      <td>617589</td>\n",
       "      <td>317 W MORGAN ST RALEIGH, NC 27601</td>\n",
       "      <td>THE DAWSON BLDG</td>\n",
       "      <td></td>\n",
       "      <td>2016-11-30 17:38:00</td>\n",
       "      <td>2016-11-30 18:18:00</td>\n",
       "      <td>2016-11-30 17:35:00</td>\n",
       "      <td>0</td>\n",
       "      <td>16-0038225</td>\n",
       "      <td>735.0</td>\n",
       "      <td>Alarm system sounded due to malfunction</td>\n",
       "      <td>B</td>\n",
       "      <td>1</td>\n",
       "      <td>-78.643964</td>\n",
       "      <td>35.779769</td>\n",
       "      <td>2016</td>\n",
       "      <td>2016-11-30</td>\n",
       "      <td>180.0</td>\n",
       "    </tr>\n",
       "    <tr>\n",
       "      <th>123588</th>\n",
       "      <td>526f9bb9-f853-4a19-bb33-9faa92855e6c</td>\n",
       "      <td>617581</td>\n",
       "      <td>509 GLENWOOD AVE RALEIGH, NC 27601</td>\n",
       "      <td>GLENWOOD TOWERS</td>\n",
       "      <td></td>\n",
       "      <td>2016-11-28 06:08:00</td>\n",
       "      <td>2016-11-28 06:36:00</td>\n",
       "      <td>2016-11-28 06:03:00</td>\n",
       "      <td>0</td>\n",
       "      <td>16-0037947</td>\n",
       "      <td>251.0</td>\n",
       "      <td>Excessive heat scorch burns with no ignition</td>\n",
       "      <td>A</td>\n",
       "      <td>1</td>\n",
       "      <td>-78.647256</td>\n",
       "      <td>35.786883</td>\n",
       "      <td>2016</td>\n",
       "      <td>2016-11-28</td>\n",
       "      <td>300.0</td>\n",
       "    </tr>\n",
       "    <tr>\n",
       "      <th>123580</th>\n",
       "      <td>01c0011b-56a2-41cd-a304-7ebac4401d72</td>\n",
       "      <td>617573</td>\n",
       "      <td>116 ST MARYS ST RALEIGH, NC 27601</td>\n",
       "      <td>CARRIAGE HOUSE APTS</td>\n",
       "      <td></td>\n",
       "      <td>2016-11-24 04:42:00</td>\n",
       "      <td>2016-11-24 04:55:00</td>\n",
       "      <td>2016-11-24 04:38:00</td>\n",
       "      <td>0</td>\n",
       "      <td>16-0037570</td>\n",
       "      <td>743.0</td>\n",
       "      <td>Smoke detector activation no fire - unintentional</td>\n",
       "      <td>A</td>\n",
       "      <td>1</td>\n",
       "      <td>-78.650615</td>\n",
       "      <td>35.781902</td>\n",
       "      <td>2016</td>\n",
       "      <td>2016-11-24</td>\n",
       "      <td>240.0</td>\n",
       "    </tr>\n",
       "  </tbody>\n",
       "</table>\n",
       "</div>"
      ],
      "text/plain": [
       "                                    GlobalID  OBJECTID  \\\n",
       "126856  955dca87-3b15-4930-869d-cf4dbbf2fb5b    620940   \n",
       "15797   98041c4d-8fd2-405e-b5ba-baf1ced9289a    492895   \n",
       "123595  158e80ce-e2cc-41e5-a7f2-67a2d3ab191f    617589   \n",
       "123588  526f9bb9-f853-4a19-bb33-9faa92855e6c    617581   \n",
       "123580  01c0011b-56a2-41cd-a304-7ebac4401d72    617573   \n",
       "\n",
       "                                      address  \\\n",
       "126856  120 S WILMINGTON ST RALEIGH, NC 27601   \n",
       "15797       734 S PERSON ST RALEIGH, NC 27601   \n",
       "123595      317 W MORGAN ST RALEIGH, NC 27601   \n",
       "123588     509 GLENWOOD AVE RALEIGH, NC 27601   \n",
       "123580      116 ST MARYS ST RALEIGH, NC 27601   \n",
       "\n",
       "                                        address2         apt_room  \\\n",
       "126856  PARKING DECK ALEXANDER SQUARE                               \n",
       "15797                                        NaN                    \n",
       "123595  THE DAWSON BLDG                                             \n",
       "123588  GLENWOOD TOWERS                                             \n",
       "123580  CARRIAGE HOUSE APTS                                         \n",
       "\n",
       "          arrive_date_time   cleared_date_time  dispatch_date_time  exposure  \\\n",
       "126856 2017-01-14 04:48:00 2017-01-14 04:55:00 2017-01-14 04:46:00         0   \n",
       "15797  2012-10-13 00:37:00 2012-10-13 00:47:00 2012-10-13 00:34:00         0   \n",
       "123595 2016-11-30 17:38:00 2016-11-30 18:18:00 2016-11-30 17:35:00         0   \n",
       "123588 2016-11-28 06:08:00 2016-11-28 06:36:00 2016-11-28 06:03:00         0   \n",
       "123580 2016-11-24 04:42:00 2016-11-24 04:55:00 2016-11-24 04:38:00         0   \n",
       "\n",
       "       incident_number  incident_type  \\\n",
       "126856      17-0001522          700.0   \n",
       "15797       12-0029658          710.0   \n",
       "123595      16-0038225          735.0   \n",
       "123588      16-0037947          251.0   \n",
       "123580      16-0037570          743.0   \n",
       "\n",
       "                                incident_type_description platoon  station  \\\n",
       "126856                    False alarm or false call Other       C        1   \n",
       "15797              Malicious mischievous false call Other       A        1   \n",
       "123595            Alarm system sounded due to malfunction       B        1   \n",
       "123588       Excessive heat scorch burns with no ignition       A        1   \n",
       "123580  Smoke detector activation no fire - unintentional       A        1   \n",
       "\n",
       "        Longitude   Latitude  Year        Date  Seconds  \n",
       "126856 -78.638214  35.778893  2017  2017-01-14    120.0  \n",
       "15797  -78.635323  35.771454  2012  2012-10-13    180.0  \n",
       "123595 -78.643964  35.779769  2016  2016-11-30    180.0  \n",
       "123588 -78.647256  35.786883  2016  2016-11-28    300.0  \n",
       "123580 -78.650615  35.781902  2016  2016-11-24    240.0  "
      ]
     },
     "execution_count": 55,
     "metadata": {},
     "output_type": "execute_result"
    }
   ],
   "source": [
    "no_outliers['station'] = round(no_outliers['station'],0)\n",
    "stations_sorted = no_outliers.sort_values('station')\n",
    "stations_sorted.head()\n"
   ]
  },
  {
   "cell_type": "code",
   "execution_count": 56,
   "metadata": {},
   "outputs": [],
   "source": [
    "station_means = stations_sorted.groupby('station')['Seconds'].mean()\n"
   ]
  },
  {
   "cell_type": "code",
   "execution_count": 57,
   "metadata": {},
   "outputs": [],
   "source": [
    "station_err = stations_sorted.groupby('station')['Seconds'].sem()\n"
   ]
  },
  {
   "cell_type": "code",
   "execution_count": 58,
   "metadata": {
    "scrolled": true
   },
   "outputs": [],
   "source": [
    "station_std = stations_sorted.groupby('station')['Seconds'].std()"
   ]
  },
  {
   "cell_type": "code",
   "execution_count": 59,
   "metadata": {},
   "outputs": [
    {
     "name": "stdout",
     "output_type": "stream",
     "text": [
      "The RFD stations had a 306 second response time, with standard deviation 1049, error 3.0\n"
     ]
    }
   ],
   "source": [
    "overall_mean = round(dfst['Seconds'].mean())\n",
    "overall_std = round(dfst['Seconds'].std())\n",
    "overall_err = round(dfst['Seconds'].sem())\n",
    "\n",
    "print(f'The RFD stations had a {overall_mean} second response time, with standard deviation {overall_std}, error {overall_err}')"
   ]
  },
  {
   "cell_type": "code",
   "execution_count": 60,
   "metadata": {},
   "outputs": [
    {
     "name": "stdout",
     "output_type": "stream",
     "text": [
      "After removing outliers, the RFD stations had a 292.07 second response time, with standard deviation 143.35.\n"
     ]
    }
   ],
   "source": [
    "#Removing the outliers\n",
    "overall_mean = round(no_outliers['Seconds'].mean(), 2)\n",
    "overall_std = round(no_outliers['Seconds'].std(),2)\n",
    "\n",
    "print(f'After removing outliers, the RFD stations had a {overall_mean} second response time, with standard deviation {overall_std}.')"
   ]
  },
  {
   "cell_type": "code",
   "execution_count": 61,
   "metadata": {},
   "outputs": [
    {
     "name": "stdout",
     "output_type": "stream",
     "text": [
      "The station with the fastest response times averaged 232.54 seconds while the slowest averaged 341.4.\n"
     ]
    }
   ],
   "source": [
    "slowest = round(station_means.max(), 2)\n",
    "quickest = round(station_means.min(), 2)\n",
    "print(f'The station with the fastest response times averaged {quickest} seconds while the slowest averaged {slowest}.')"
   ]
  },
  {
   "cell_type": "code",
   "execution_count": 62,
   "metadata": {},
   "outputs": [
    {
     "name": "stdout",
     "output_type": "stream",
     "text": [
      "There are 18 stations with response times above average: [2, 4, 6, 8, 11, 15, 16, 18, 20, 21, 22, 23, 24, 25, 26, 27, 28, 29]\n"
     ]
    }
   ],
   "source": [
    "slow_stations = []\n",
    "count = 0\n",
    "for item, key in station_means.iteritems():\n",
    "    if (key - overall_mean) > 0:\n",
    "        slow_stations.append(item)\n",
    "        count += 1\n",
    "print(f'There are {count} stations with response times above average: {slow_stations}')"
   ]
  },
  {
   "cell_type": "markdown",
   "metadata": {},
   "source": [
    "### Plot mean response time per station with errors"
   ]
  },
  {
   "cell_type": "code",
   "execution_count": 63,
   "metadata": {
    "scrolled": false
   },
   "outputs": [
    {
     "data": {
      "image/png": "[encoded data removed]",
      "text/plain": [
       "<Figure size 864x576 with 1 Axes>"
      ]
     },
     "metadata": {
      "needs_background": "light"
     },
     "output_type": "display_data"
    }
   ],
   "source": [
    "station_means.plot(yerr=station_err, kind='bar')\n",
    "fig = plt.gcf()\n",
    "fig.set_size_inches(12, 8)\n",
    "fig.ylimit=(0,400)\n",
    "fig.xlimit=(0,30)\n",
    "plt.hlines(overall_mean, -1, 30, alpha=0.2, label='Overall mean', color='red')\n",
    "# Add some labels and title\n",
    "plt.xlabel('Station', fontsize=12, fontweight='bold')\n",
    "plt.ylabel('Time (seconds)', fontsize=12, fontweight='bold')\n",
    "plt.title('Mean RFD Station Response Time for 2008-2018 - Station Order', fontsize=14, fontweight='bold')\n",
    "# Save the figure\n",
    "plt.savefig('./graphics/station_response_time_summary.png')"
   ]
  },
  {
   "cell_type": "markdown",
   "metadata": {},
   "source": [
    "##### Scatterplot of mean response time per station/year for further investigation"
   ]
  },
  {
   "cell_type": "code",
   "execution_count": 64,
   "metadata": {},
   "outputs": [
    {
     "data": {
      "text/html": [
       "<div>\n",
       "<style scoped>\n",
       "    .dataframe tbody tr th:only-of-type {\n",
       "        vertical-align: middle;\n",
       "    }\n",
       "\n",
       "    .dataframe tbody tr th {\n",
       "        vertical-align: top;\n",
       "    }\n",
       "\n",
       "    .dataframe thead th {\n",
       "        text-align: right;\n",
       "    }\n",
       "</style>\n",
       "<table border=\"1\" class=\"dataframe\">\n",
       "  <thead>\n",
       "    <tr style=\"text-align: right;\">\n",
       "      <th>station</th>\n",
       "      <th>1</th>\n",
       "      <th>2</th>\n",
       "      <th>3</th>\n",
       "      <th>4</th>\n",
       "      <th>5</th>\n",
       "      <th>6</th>\n",
       "      <th>7</th>\n",
       "      <th>8</th>\n",
       "      <th>9</th>\n",
       "      <th>10</th>\n",
       "      <th>...</th>\n",
       "      <th>20</th>\n",
       "      <th>21</th>\n",
       "      <th>22</th>\n",
       "      <th>23</th>\n",
       "      <th>24</th>\n",
       "      <th>25</th>\n",
       "      <th>26</th>\n",
       "      <th>27</th>\n",
       "      <th>28</th>\n",
       "      <th>29</th>\n",
       "    </tr>\n",
       "    <tr>\n",
       "      <th>Year</th>\n",
       "      <th></th>\n",
       "      <th></th>\n",
       "      <th></th>\n",
       "      <th></th>\n",
       "      <th></th>\n",
       "      <th></th>\n",
       "      <th></th>\n",
       "      <th></th>\n",
       "      <th></th>\n",
       "      <th></th>\n",
       "      <th></th>\n",
       "      <th></th>\n",
       "      <th></th>\n",
       "      <th></th>\n",
       "      <th></th>\n",
       "      <th></th>\n",
       "      <th></th>\n",
       "      <th></th>\n",
       "      <th></th>\n",
       "      <th></th>\n",
       "      <th></th>\n",
       "    </tr>\n",
       "  </thead>\n",
       "  <tbody>\n",
       "    <tr>\n",
       "      <th>2008</th>\n",
       "      <td>231.216617</td>\n",
       "      <td>302.696629</td>\n",
       "      <td>225.457810</td>\n",
       "      <td>280.993789</td>\n",
       "      <td>264.051724</td>\n",
       "      <td>287.762376</td>\n",
       "      <td>254.292135</td>\n",
       "      <td>305.000000</td>\n",
       "      <td>224.385246</td>\n",
       "      <td>294.470990</td>\n",
       "      <td>...</td>\n",
       "      <td>313.856502</td>\n",
       "      <td>311.618497</td>\n",
       "      <td>295.704989</td>\n",
       "      <td>334.947368</td>\n",
       "      <td>313.450882</td>\n",
       "      <td>255.806452</td>\n",
       "      <td>317.109375</td>\n",
       "      <td>308.727273</td>\n",
       "      <td>298.560000</td>\n",
       "      <td>NaN</td>\n",
       "    </tr>\n",
       "    <tr>\n",
       "      <th>2009</th>\n",
       "      <td>209.079755</td>\n",
       "      <td>284.788732</td>\n",
       "      <td>206.729323</td>\n",
       "      <td>270.389610</td>\n",
       "      <td>255.479115</td>\n",
       "      <td>279.953271</td>\n",
       "      <td>239.200000</td>\n",
       "      <td>301.297297</td>\n",
       "      <td>229.702517</td>\n",
       "      <td>253.680782</td>\n",
       "      <td>...</td>\n",
       "      <td>304.255319</td>\n",
       "      <td>308.540146</td>\n",
       "      <td>289.618321</td>\n",
       "      <td>341.052632</td>\n",
       "      <td>302.093023</td>\n",
       "      <td>309.122807</td>\n",
       "      <td>305.576208</td>\n",
       "      <td>285.853659</td>\n",
       "      <td>290.000000</td>\n",
       "      <td>NaN</td>\n",
       "    </tr>\n",
       "    <tr>\n",
       "      <th>2010</th>\n",
       "      <td>219.252336</td>\n",
       "      <td>294.061433</td>\n",
       "      <td>231.102662</td>\n",
       "      <td>283.296703</td>\n",
       "      <td>253.615960</td>\n",
       "      <td>298.390244</td>\n",
       "      <td>245.276382</td>\n",
       "      <td>318.812616</td>\n",
       "      <td>237.241379</td>\n",
       "      <td>249.600000</td>\n",
       "      <td>...</td>\n",
       "      <td>314.078212</td>\n",
       "      <td>315.229358</td>\n",
       "      <td>327.750000</td>\n",
       "      <td>320.625000</td>\n",
       "      <td>318.475610</td>\n",
       "      <td>295.048544</td>\n",
       "      <td>334.447950</td>\n",
       "      <td>324.642857</td>\n",
       "      <td>303.296703</td>\n",
       "      <td>NaN</td>\n",
       "    </tr>\n",
       "    <tr>\n",
       "      <th>2011</th>\n",
       "      <td>226.113537</td>\n",
       "      <td>310.551181</td>\n",
       "      <td>254.512635</td>\n",
       "      <td>280.645161</td>\n",
       "      <td>256.817102</td>\n",
       "      <td>300.436893</td>\n",
       "      <td>248.356164</td>\n",
       "      <td>323.361921</td>\n",
       "      <td>263.187773</td>\n",
       "      <td>261.671159</td>\n",
       "      <td>...</td>\n",
       "      <td>303.851852</td>\n",
       "      <td>307.792208</td>\n",
       "      <td>343.318386</td>\n",
       "      <td>336.680162</td>\n",
       "      <td>307.735849</td>\n",
       "      <td>330.933333</td>\n",
       "      <td>318.461538</td>\n",
       "      <td>331.272727</td>\n",
       "      <td>315.510204</td>\n",
       "      <td>NaN</td>\n",
       "    </tr>\n",
       "    <tr>\n",
       "      <th>2012</th>\n",
       "      <td>243.597002</td>\n",
       "      <td>309.122807</td>\n",
       "      <td>260.300752</td>\n",
       "      <td>299.213115</td>\n",
       "      <td>274.087760</td>\n",
       "      <td>317.914110</td>\n",
       "      <td>261.760000</td>\n",
       "      <td>317.290076</td>\n",
       "      <td>262.119816</td>\n",
       "      <td>277.577855</td>\n",
       "      <td>...</td>\n",
       "      <td>308.189415</td>\n",
       "      <td>324.299065</td>\n",
       "      <td>351.255605</td>\n",
       "      <td>341.478261</td>\n",
       "      <td>327.563025</td>\n",
       "      <td>319.363636</td>\n",
       "      <td>320.395257</td>\n",
       "      <td>330.000000</td>\n",
       "      <td>320.547945</td>\n",
       "      <td>NaN</td>\n",
       "    </tr>\n",
       "    <tr>\n",
       "      <th>2013</th>\n",
       "      <td>248.023256</td>\n",
       "      <td>322.240000</td>\n",
       "      <td>254.149909</td>\n",
       "      <td>285.531915</td>\n",
       "      <td>264.000000</td>\n",
       "      <td>311.165919</td>\n",
       "      <td>281.277641</td>\n",
       "      <td>325.423729</td>\n",
       "      <td>260.160000</td>\n",
       "      <td>291.683168</td>\n",
       "      <td>...</td>\n",
       "      <td>307.752809</td>\n",
       "      <td>342.000000</td>\n",
       "      <td>350.757946</td>\n",
       "      <td>366.172840</td>\n",
       "      <td>316.302521</td>\n",
       "      <td>330.238095</td>\n",
       "      <td>311.811024</td>\n",
       "      <td>346.466165</td>\n",
       "      <td>310.866142</td>\n",
       "      <td>NaN</td>\n",
       "    </tr>\n",
       "    <tr>\n",
       "      <th>2014</th>\n",
       "      <td>239.213710</td>\n",
       "      <td>357.034884</td>\n",
       "      <td>250.952381</td>\n",
       "      <td>314.095238</td>\n",
       "      <td>266.543779</td>\n",
       "      <td>314.460888</td>\n",
       "      <td>286.595745</td>\n",
       "      <td>340.597540</td>\n",
       "      <td>264.738041</td>\n",
       "      <td>292.521246</td>\n",
       "      <td>...</td>\n",
       "      <td>317.010989</td>\n",
       "      <td>334.067797</td>\n",
       "      <td>333.396226</td>\n",
       "      <td>376.764706</td>\n",
       "      <td>345.806452</td>\n",
       "      <td>365.517241</td>\n",
       "      <td>337.793594</td>\n",
       "      <td>382.058824</td>\n",
       "      <td>333.698630</td>\n",
       "      <td>NaN</td>\n",
       "    </tr>\n",
       "    <tr>\n",
       "      <th>2015</th>\n",
       "      <td>236.096654</td>\n",
       "      <td>350.414201</td>\n",
       "      <td>247.694805</td>\n",
       "      <td>308.681672</td>\n",
       "      <td>262.139738</td>\n",
       "      <td>299.106700</td>\n",
       "      <td>253.920000</td>\n",
       "      <td>327.517986</td>\n",
       "      <td>290.000000</td>\n",
       "      <td>286.080000</td>\n",
       "      <td>...</td>\n",
       "      <td>315.375000</td>\n",
       "      <td>340.714286</td>\n",
       "      <td>333.717949</td>\n",
       "      <td>342.491803</td>\n",
       "      <td>337.173913</td>\n",
       "      <td>339.635036</td>\n",
       "      <td>324.403670</td>\n",
       "      <td>313.333333</td>\n",
       "      <td>335.857988</td>\n",
       "      <td>311.186441</td>\n",
       "    </tr>\n",
       "    <tr>\n",
       "      <th>2016</th>\n",
       "      <td>252.774869</td>\n",
       "      <td>350.731707</td>\n",
       "      <td>253.945946</td>\n",
       "      <td>305.981308</td>\n",
       "      <td>285.000000</td>\n",
       "      <td>300.864198</td>\n",
       "      <td>266.547315</td>\n",
       "      <td>338.611987</td>\n",
       "      <td>270.063694</td>\n",
       "      <td>302.131148</td>\n",
       "      <td>...</td>\n",
       "      <td>336.391555</td>\n",
       "      <td>348.645161</td>\n",
       "      <td>343.355705</td>\n",
       "      <td>360.000000</td>\n",
       "      <td>315.037594</td>\n",
       "      <td>347.547170</td>\n",
       "      <td>334.551724</td>\n",
       "      <td>366.162162</td>\n",
       "      <td>351.340206</td>\n",
       "      <td>321.951220</td>\n",
       "    </tr>\n",
       "    <tr>\n",
       "      <th>2017</th>\n",
       "      <td>223.946698</td>\n",
       "      <td>380.336815</td>\n",
       "      <td>263.500787</td>\n",
       "      <td>307.544715</td>\n",
       "      <td>260.791587</td>\n",
       "      <td>315.042895</td>\n",
       "      <td>262.661290</td>\n",
       "      <td>330.246644</td>\n",
       "      <td>267.742268</td>\n",
       "      <td>275.422111</td>\n",
       "      <td>...</td>\n",
       "      <td>297.037705</td>\n",
       "      <td>329.154639</td>\n",
       "      <td>363.735849</td>\n",
       "      <td>317.362963</td>\n",
       "      <td>285.388889</td>\n",
       "      <td>320.706849</td>\n",
       "      <td>332.267081</td>\n",
       "      <td>364.880531</td>\n",
       "      <td>336.098039</td>\n",
       "      <td>305.074627</td>\n",
       "    </tr>\n",
       "    <tr>\n",
       "      <th>2018</th>\n",
       "      <td>222.503330</td>\n",
       "      <td>336.504918</td>\n",
       "      <td>272.004320</td>\n",
       "      <td>294.468635</td>\n",
       "      <td>244.180049</td>\n",
       "      <td>333.110577</td>\n",
       "      <td>260.983010</td>\n",
       "      <td>321.756364</td>\n",
       "      <td>275.426891</td>\n",
       "      <td>279.012579</td>\n",
       "      <td>...</td>\n",
       "      <td>300.835025</td>\n",
       "      <td>330.937337</td>\n",
       "      <td>334.583942</td>\n",
       "      <td>313.878947</td>\n",
       "      <td>296.876106</td>\n",
       "      <td>357.827338</td>\n",
       "      <td>345.722222</td>\n",
       "      <td>344.506849</td>\n",
       "      <td>357.600000</td>\n",
       "      <td>323.231707</td>\n",
       "    </tr>\n",
       "  </tbody>\n",
       "</table>\n",
       "<p>11 rows × 28 columns</p>\n",
       "</div>"
      ],
      "text/plain": [
       "station          1           2           3           4           5   \\\n",
       "Year                                                                  \n",
       "2008     231.216617  302.696629  225.457810  280.993789  264.051724   \n",
       "2009     209.079755  284.788732  206.729323  270.389610  255.479115   \n",
       "2010     219.252336  294.061433  231.102662  283.296703  253.615960   \n",
       "2011     226.113537  310.551181  254.512635  280.645161  256.817102   \n",
       "2012     243.597002  309.122807  260.300752  299.213115  274.087760   \n",
       "2013     248.023256  322.240000  254.149909  285.531915  264.000000   \n",
       "2014     239.213710  357.034884  250.952381  314.095238  266.543779   \n",
       "2015     236.096654  350.414201  247.694805  308.681672  262.139738   \n",
       "2016     252.774869  350.731707  253.945946  305.981308  285.000000   \n",
       "2017     223.946698  380.336815  263.500787  307.544715  260.791587   \n",
       "2018     222.503330  336.504918  272.004320  294.468635  244.180049   \n",
       "\n",
       "station          6           7           8           9           10  \\\n",
       "Year                                                                  \n",
       "2008     287.762376  254.292135  305.000000  224.385246  294.470990   \n",
       "2009     279.953271  239.200000  301.297297  229.702517  253.680782   \n",
       "2010     298.390244  245.276382  318.812616  237.241379  249.600000   \n",
       "2011     300.436893  248.356164  323.361921  263.187773  261.671159   \n",
       "2012     317.914110  261.760000  317.290076  262.119816  277.577855   \n",
       "2013     311.165919  281.277641  325.423729  260.160000  291.683168   \n",
       "2014     314.460888  286.595745  340.597540  264.738041  292.521246   \n",
       "2015     299.106700  253.920000  327.517986  290.000000  286.080000   \n",
       "2016     300.864198  266.547315  338.611987  270.063694  302.131148   \n",
       "2017     315.042895  262.661290  330.246644  267.742268  275.422111   \n",
       "2018     333.110577  260.983010  321.756364  275.426891  279.012579   \n",
       "\n",
       "station     ...              20          21          22          23  \\\n",
       "Year        ...                                                       \n",
       "2008        ...      313.856502  311.618497  295.704989  334.947368   \n",
       "2009        ...      304.255319  308.540146  289.618321  341.052632   \n",
       "2010        ...      314.078212  315.229358  327.750000  320.625000   \n",
       "2011        ...      303.851852  307.792208  343.318386  336.680162   \n",
       "2012        ...      308.189415  324.299065  351.255605  341.478261   \n",
       "2013        ...      307.752809  342.000000  350.757946  366.172840   \n",
       "2014        ...      317.010989  334.067797  333.396226  376.764706   \n",
       "2015        ...      315.375000  340.714286  333.717949  342.491803   \n",
       "2016        ...      336.391555  348.645161  343.355705  360.000000   \n",
       "2017        ...      297.037705  329.154639  363.735849  317.362963   \n",
       "2018        ...      300.835025  330.937337  334.583942  313.878947   \n",
       "\n",
       "station          24          25          26          27          28  \\\n",
       "Year                                                                  \n",
       "2008     313.450882  255.806452  317.109375  308.727273  298.560000   \n",
       "2009     302.093023  309.122807  305.576208  285.853659  290.000000   \n",
       "2010     318.475610  295.048544  334.447950  324.642857  303.296703   \n",
       "2011     307.735849  330.933333  318.461538  331.272727  315.510204   \n",
       "2012     327.563025  319.363636  320.395257  330.000000  320.547945   \n",
       "2013     316.302521  330.238095  311.811024  346.466165  310.866142   \n",
       "2014     345.806452  365.517241  337.793594  382.058824  333.698630   \n",
       "2015     337.173913  339.635036  324.403670  313.333333  335.857988   \n",
       "2016     315.037594  347.547170  334.551724  366.162162  351.340206   \n",
       "2017     285.388889  320.706849  332.267081  364.880531  336.098039   \n",
       "2018     296.876106  357.827338  345.722222  344.506849  357.600000   \n",
       "\n",
       "station          29  \n",
       "Year                 \n",
       "2008            NaN  \n",
       "2009            NaN  \n",
       "2010            NaN  \n",
       "2011            NaN  \n",
       "2012            NaN  \n",
       "2013            NaN  \n",
       "2014            NaN  \n",
       "2015     311.186441  \n",
       "2016     321.951220  \n",
       "2017     305.074627  \n",
       "2018     323.231707  \n",
       "\n",
       "[11 rows x 28 columns]"
      ]
     },
     "execution_count": 64,
     "metadata": {},
     "output_type": "execute_result"
    }
   ],
   "source": [
    "ss = stations_sorted.groupby(['Year','station'])['Seconds'].mean()\n",
    "ssu = ss.unstack()\n",
    "ssu"
   ]
  },
  {
   "cell_type": "code",
   "execution_count": 65,
   "metadata": {},
   "outputs": [
    {
     "data": {
      "image/png": "[encoded data removed]",
      "text/plain": [
       "<Figure size 864x576 with 1 Axes>"
      ]
     },
     "metadata": {
      "needs_background": "light"
     },
     "output_type": "display_data"
    }
   ],
   "source": [
    "g = sns.boxenplot(data=ssu)\n",
    "fig = plt.gcf()\n",
    "fig.set_size_inches(12, 8)\n",
    "fig.ylimit=(200,400)\n",
    "fig.xlimit=(0,29)\n",
    "plt.hlines(overall_mean, -1, 29, alpha=0.2, label='Overall mean')\n",
    "plt.grid(alpha=0.4, axis='y')\n",
    "plt.xlabel('Station', fontsize=12, fontweight='bold')\n",
    "plt.ylabel('Mean Response Time by Station (seconds)', fontsize=12, fontweight='bold')\n",
    "plt.title('Response Time per Year per Station', fontsize=14, fontweight='bold')\n",
    "plt.legend(loc='best')\n",
    "plt.savefig('./graphics/station_response_time_boxen.png')"
   ]
  },
  {
   "cell_type": "code",
   "execution_count": 66,
   "metadata": {},
   "outputs": [
    {
     "data": {
      "text/html": [
       "<div>\n",
       "<style scoped>\n",
       "    .dataframe tbody tr th:only-of-type {\n",
       "        vertical-align: middle;\n",
       "    }\n",
       "\n",
       "    .dataframe tbody tr th {\n",
       "        vertical-align: top;\n",
       "    }\n",
       "\n",
       "    .dataframe thead th {\n",
       "        text-align: right;\n",
       "    }\n",
       "</style>\n",
       "<table border=\"1\" class=\"dataframe\">\n",
       "  <thead>\n",
       "    <tr style=\"text-align: right;\">\n",
       "      <th></th>\n",
       "      <th>X</th>\n",
       "      <th>Y</th>\n",
       "      <th>OBJECTID</th>\n",
       "      <th>ID</th>\n",
       "      <th>LABEL</th>\n",
       "      <th>LOCATION</th>\n",
       "      <th>CITY</th>\n",
       "      <th>AGENCY</th>\n",
       "      <th>STATIONID</th>\n",
       "      <th>RECNO</th>\n",
       "    </tr>\n",
       "  </thead>\n",
       "  <tbody>\n",
       "    <tr>\n",
       "      <th>0</th>\n",
       "      <td>-78.643753</td>\n",
       "      <td>35.777620</td>\n",
       "      <td>1323</td>\n",
       "      <td>1</td>\n",
       "      <td>RFD #1</td>\n",
       "      <td>220 S. Dawson St</td>\n",
       "      <td>Raleigh</td>\n",
       "      <td>RF</td>\n",
       "      <td>S01</td>\n",
       "      <td>58</td>\n",
       "    </tr>\n",
       "    <tr>\n",
       "      <th>1</th>\n",
       "      <td>-78.647936</td>\n",
       "      <td>35.748519</td>\n",
       "      <td>1289</td>\n",
       "      <td>2</td>\n",
       "      <td>RFD #2</td>\n",
       "      <td>263 Pecan Rd</td>\n",
       "      <td>Raleigh</td>\n",
       "      <td>RF</td>\n",
       "      <td>S02</td>\n",
       "      <td>24</td>\n",
       "    </tr>\n",
       "    <tr>\n",
       "      <th>2</th>\n",
       "      <td>-78.632205</td>\n",
       "      <td>35.779491</td>\n",
       "      <td>1292</td>\n",
       "      <td>3</td>\n",
       "      <td>RFD #3</td>\n",
       "      <td>13 S. East St</td>\n",
       "      <td>Raleigh</td>\n",
       "      <td>RF</td>\n",
       "      <td>S03</td>\n",
       "      <td>27</td>\n",
       "    </tr>\n",
       "    <tr>\n",
       "      <th>3</th>\n",
       "      <td>-78.648385</td>\n",
       "      <td>35.882536</td>\n",
       "      <td>1315</td>\n",
       "      <td>4</td>\n",
       "      <td>RFD #4</td>\n",
       "      <td>121 Northway Ct</td>\n",
       "      <td>Raleigh</td>\n",
       "      <td>RF</td>\n",
       "      <td>S04</td>\n",
       "      <td>50</td>\n",
       "    </tr>\n",
       "    <tr>\n",
       "      <th>4</th>\n",
       "      <td>-78.661864</td>\n",
       "      <td>35.788267</td>\n",
       "      <td>1293</td>\n",
       "      <td>5</td>\n",
       "      <td>RFD #5</td>\n",
       "      <td>300 Oberlin Rd</td>\n",
       "      <td>Raleigh</td>\n",
       "      <td>RF</td>\n",
       "      <td>S05</td>\n",
       "      <td>28</td>\n",
       "    </tr>\n",
       "    <tr>\n",
       "      <th>5</th>\n",
       "      <td>-78.655741</td>\n",
       "      <td>35.809223</td>\n",
       "      <td>1294</td>\n",
       "      <td>6</td>\n",
       "      <td>RFD #6</td>\n",
       "      <td>2601 Fairview Rd</td>\n",
       "      <td>Raleigh</td>\n",
       "      <td>RF</td>\n",
       "      <td>S06</td>\n",
       "      <td>29</td>\n",
       "    </tr>\n",
       "    <tr>\n",
       "      <th>6</th>\n",
       "      <td>-78.612775</td>\n",
       "      <td>35.792728</td>\n",
       "      <td>1295</td>\n",
       "      <td>7</td>\n",
       "      <td>RFD #7</td>\n",
       "      <td>2100 Glascock St</td>\n",
       "      <td>Raleigh</td>\n",
       "      <td>RF</td>\n",
       "      <td>S07</td>\n",
       "      <td>30</td>\n",
       "    </tr>\n",
       "    <tr>\n",
       "      <th>7</th>\n",
       "      <td>-78.708671</td>\n",
       "      <td>35.786232</td>\n",
       "      <td>1287</td>\n",
       "      <td>8</td>\n",
       "      <td>RFD #8</td>\n",
       "      <td>5001 Western Blvd</td>\n",
       "      <td>Raleigh</td>\n",
       "      <td>RF</td>\n",
       "      <td>S08</td>\n",
       "      <td>22</td>\n",
       "    </tr>\n",
       "    <tr>\n",
       "      <th>8</th>\n",
       "      <td>-78.643112</td>\n",
       "      <td>35.841306</td>\n",
       "      <td>1314</td>\n",
       "      <td>9</td>\n",
       "      <td>RFD #9</td>\n",
       "      <td>4465 Six Forks Rd</td>\n",
       "      <td>Raleigh</td>\n",
       "      <td>RF</td>\n",
       "      <td>S09</td>\n",
       "      <td>49</td>\n",
       "    </tr>\n",
       "    <tr>\n",
       "      <th>9</th>\n",
       "      <td>-78.613156</td>\n",
       "      <td>35.741720</td>\n",
       "      <td>1291</td>\n",
       "      <td>10</td>\n",
       "      <td>RFD #10</td>\n",
       "      <td>2711 Sanderford Rd</td>\n",
       "      <td>Raleigh</td>\n",
       "      <td>RF</td>\n",
       "      <td>S10</td>\n",
       "      <td>26</td>\n",
       "    </tr>\n",
       "    <tr>\n",
       "      <th>10</th>\n",
       "      <td>-78.600509</td>\n",
       "      <td>35.819670</td>\n",
       "      <td>1316</td>\n",
       "      <td>11</td>\n",
       "      <td>RFD #11</td>\n",
       "      <td>2925 Glenridge Rd</td>\n",
       "      <td>Raleigh</td>\n",
       "      <td>RF</td>\n",
       "      <td>S11</td>\n",
       "      <td>51</td>\n",
       "    </tr>\n",
       "    <tr>\n",
       "      <th>11</th>\n",
       "      <td>-78.579865</td>\n",
       "      <td>35.768894</td>\n",
       "      <td>1296</td>\n",
       "      <td>12</td>\n",
       "      <td>RFD #12</td>\n",
       "      <td>3409 Poole Rd</td>\n",
       "      <td>Raleigh</td>\n",
       "      <td>RF</td>\n",
       "      <td>S12</td>\n",
       "      <td>31</td>\n",
       "    </tr>\n",
       "    <tr>\n",
       "      <th>12</th>\n",
       "      <td>-78.701714</td>\n",
       "      <td>35.815795</td>\n",
       "      <td>1285</td>\n",
       "      <td>14</td>\n",
       "      <td>RFD #14</td>\n",
       "      <td>4220 Lake Boone Tr</td>\n",
       "      <td>Raleigh</td>\n",
       "      <td>RF</td>\n",
       "      <td>S14</td>\n",
       "      <td>20</td>\n",
       "    </tr>\n",
       "    <tr>\n",
       "      <th>13</th>\n",
       "      <td>-78.607931</td>\n",
       "      <td>35.866791</td>\n",
       "      <td>1321</td>\n",
       "      <td>15</td>\n",
       "      <td>RFD #15</td>\n",
       "      <td>1815 Spring Forest Rd</td>\n",
       "      <td>Raleigh</td>\n",
       "      <td>RF</td>\n",
       "      <td>S15</td>\n",
       "      <td>56</td>\n",
       "    </tr>\n",
       "    <tr>\n",
       "      <th>14</th>\n",
       "      <td>-78.673106</td>\n",
       "      <td>35.852654</td>\n",
       "      <td>1322</td>\n",
       "      <td>16</td>\n",
       "      <td>RFD #16</td>\n",
       "      <td>5225 Lead Mine Rd</td>\n",
       "      <td>Raleigh</td>\n",
       "      <td>RF</td>\n",
       "      <td>S16</td>\n",
       "      <td>57</td>\n",
       "    </tr>\n",
       "    <tr>\n",
       "      <th>15</th>\n",
       "      <td>-78.711696</td>\n",
       "      <td>35.859566</td>\n",
       "      <td>1284</td>\n",
       "      <td>17</td>\n",
       "      <td>RFD #17</td>\n",
       "      <td>4601 Pleasant Valley Rd</td>\n",
       "      <td>Raleigh</td>\n",
       "      <td>RF</td>\n",
       "      <td>S17</td>\n",
       "      <td>19</td>\n",
       "    </tr>\n",
       "    <tr>\n",
       "      <th>16</th>\n",
       "      <td>-78.680868</td>\n",
       "      <td>35.894141</td>\n",
       "      <td>1312</td>\n",
       "      <td>18</td>\n",
       "      <td>RFD #18</td>\n",
       "      <td>8200 Morgans Way</td>\n",
       "      <td>Raleigh</td>\n",
       "      <td>RF</td>\n",
       "      <td>S18</td>\n",
       "      <td>47</td>\n",
       "    </tr>\n",
       "    <tr>\n",
       "      <th>17</th>\n",
       "      <td>-78.570960</td>\n",
       "      <td>35.856369</td>\n",
       "      <td>1318</td>\n",
       "      <td>19</td>\n",
       "      <td>RFD #19</td>\n",
       "      <td>4209 Spring Forest Rd</td>\n",
       "      <td>Raleigh</td>\n",
       "      <td>RF</td>\n",
       "      <td>S19</td>\n",
       "      <td>53</td>\n",
       "    </tr>\n",
       "    <tr>\n",
       "      <th>18</th>\n",
       "      <td>-78.692822</td>\n",
       "      <td>35.756004</td>\n",
       "      <td>1288</td>\n",
       "      <td>20</td>\n",
       "      <td>RFD #20</td>\n",
       "      <td>1721 Trailwood Dr</td>\n",
       "      <td>Raleigh</td>\n",
       "      <td>RF</td>\n",
       "      <td>S20</td>\n",
       "      <td>23</td>\n",
       "    </tr>\n",
       "    <tr>\n",
       "      <th>19</th>\n",
       "      <td>-78.556091</td>\n",
       "      <td>35.810983</td>\n",
       "      <td>1325</td>\n",
       "      <td>21</td>\n",
       "      <td>RFD #21</td>\n",
       "      <td>2651 Southall Rd</td>\n",
       "      <td>Raleigh</td>\n",
       "      <td>RF</td>\n",
       "      <td>S21</td>\n",
       "      <td>60</td>\n",
       "    </tr>\n",
       "    <tr>\n",
       "      <th>20</th>\n",
       "      <td>-78.570582</td>\n",
       "      <td>35.897900</td>\n",
       "      <td>1326</td>\n",
       "      <td>22</td>\n",
       "      <td>RFD #22</td>\n",
       "      <td>9350 Durant Rd</td>\n",
       "      <td>Raleigh</td>\n",
       "      <td>RF</td>\n",
       "      <td>S22</td>\n",
       "      <td>61</td>\n",
       "    </tr>\n",
       "    <tr>\n",
       "      <th>21</th>\n",
       "      <td>-78.726871</td>\n",
       "      <td>35.896955</td>\n",
       "      <td>1283</td>\n",
       "      <td>23</td>\n",
       "      <td>RFD #23</td>\n",
       "      <td>8312 Pinecrest Rd</td>\n",
       "      <td>Raleigh</td>\n",
       "      <td>RF</td>\n",
       "      <td>S23</td>\n",
       "      <td>18</td>\n",
       "    </tr>\n",
       "    <tr>\n",
       "      <th>22</th>\n",
       "      <td>-78.796751</td>\n",
       "      <td>35.901740</td>\n",
       "      <td>1330</td>\n",
       "      <td>24</td>\n",
       "      <td>RFD #24</td>\n",
       "      <td>10440 Fossil Creek Ct</td>\n",
       "      <td>Raleigh</td>\n",
       "      <td>RF</td>\n",
       "      <td>S24</td>\n",
       "      <td>65</td>\n",
       "    </tr>\n",
       "    <tr>\n",
       "      <th>23</th>\n",
       "      <td>-78.558655</td>\n",
       "      <td>35.940057</td>\n",
       "      <td>1331</td>\n",
       "      <td>25</td>\n",
       "      <td>RFD #25</td>\n",
       "      <td>2740 Wakefield Crossing</td>\n",
       "      <td>Raleigh</td>\n",
       "      <td>RF</td>\n",
       "      <td>S25</td>\n",
       "      <td>66</td>\n",
       "    </tr>\n",
       "    <tr>\n",
       "      <th>24</th>\n",
       "      <td>-78.554869</td>\n",
       "      <td>35.732388</td>\n",
       "      <td>1335</td>\n",
       "      <td>26</td>\n",
       "      <td>RFD #26</td>\n",
       "      <td>3929 Barwell Rd</td>\n",
       "      <td>Raleigh</td>\n",
       "      <td>RF</td>\n",
       "      <td>S26</td>\n",
       "      <td>70</td>\n",
       "    </tr>\n",
       "    <tr>\n",
       "      <th>25</th>\n",
       "      <td>-78.541177</td>\n",
       "      <td>35.840839</td>\n",
       "      <td>1334</td>\n",
       "      <td>27</td>\n",
       "      <td>RFD #27</td>\n",
       "      <td>5916 Buffaloe Rd</td>\n",
       "      <td>Raleigh</td>\n",
       "      <td>RF</td>\n",
       "      <td>S27</td>\n",
       "      <td>69</td>\n",
       "    </tr>\n",
       "    <tr>\n",
       "      <th>26</th>\n",
       "      <td>-78.510365</td>\n",
       "      <td>35.882473</td>\n",
       "      <td>1340</td>\n",
       "      <td>28</td>\n",
       "      <td>RFD #28</td>\n",
       "      <td>3500 Forestville Rd</td>\n",
       "      <td>Raleigh</td>\n",
       "      <td>RF</td>\n",
       "      <td>S28</td>\n",
       "      <td>69</td>\n",
       "    </tr>\n",
       "    <tr>\n",
       "      <th>27</th>\n",
       "      <td>-78.751473</td>\n",
       "      <td>35.919002</td>\n",
       "      <td>1346</td>\n",
       "      <td>29</td>\n",
       "      <td>RFD #29</td>\n",
       "      <td>12117 Leesville Rd</td>\n",
       "      <td>Raleigh</td>\n",
       "      <td>RF</td>\n",
       "      <td>S29</td>\n",
       "      <td>65</td>\n",
       "    </tr>\n",
       "  </tbody>\n",
       "</table>\n",
       "</div>"
      ],
      "text/plain": [
       "            X          Y  OBJECTID  ID    LABEL                 LOCATION  \\\n",
       "0  -78.643753  35.777620      1323   1   RFD #1         220 S. Dawson St   \n",
       "1  -78.647936  35.748519      1289   2   RFD #2             263 Pecan Rd   \n",
       "2  -78.632205  35.779491      1292   3   RFD #3            13 S. East St   \n",
       "3  -78.648385  35.882536      1315   4   RFD #4          121 Northway Ct   \n",
       "4  -78.661864  35.788267      1293   5   RFD #5           300 Oberlin Rd   \n",
       "5  -78.655741  35.809223      1294   6   RFD #6         2601 Fairview Rd   \n",
       "6  -78.612775  35.792728      1295   7   RFD #7         2100 Glascock St   \n",
       "7  -78.708671  35.786232      1287   8   RFD #8        5001 Western Blvd   \n",
       "8  -78.643112  35.841306      1314   9   RFD #9        4465 Six Forks Rd   \n",
       "9  -78.613156  35.741720      1291  10  RFD #10       2711 Sanderford Rd   \n",
       "10 -78.600509  35.819670      1316  11  RFD #11        2925 Glenridge Rd   \n",
       "11 -78.579865  35.768894      1296  12  RFD #12            3409 Poole Rd   \n",
       "12 -78.701714  35.815795      1285  14  RFD #14       4220 Lake Boone Tr   \n",
       "13 -78.607931  35.866791      1321  15  RFD #15    1815 Spring Forest Rd   \n",
       "14 -78.673106  35.852654      1322  16  RFD #16        5225 Lead Mine Rd   \n",
       "15 -78.711696  35.859566      1284  17  RFD #17  4601 Pleasant Valley Rd   \n",
       "16 -78.680868  35.894141      1312  18  RFD #18         8200 Morgans Way   \n",
       "17 -78.570960  35.856369      1318  19  RFD #19    4209 Spring Forest Rd   \n",
       "18 -78.692822  35.756004      1288  20  RFD #20        1721 Trailwood Dr   \n",
       "19 -78.556091  35.810983      1325  21  RFD #21         2651 Southall Rd   \n",
       "20 -78.570582  35.897900      1326  22  RFD #22           9350 Durant Rd   \n",
       "21 -78.726871  35.896955      1283  23  RFD #23        8312 Pinecrest Rd   \n",
       "22 -78.796751  35.901740      1330  24  RFD #24    10440 Fossil Creek Ct   \n",
       "23 -78.558655  35.940057      1331  25  RFD #25  2740 Wakefield Crossing   \n",
       "24 -78.554869  35.732388      1335  26  RFD #26          3929 Barwell Rd   \n",
       "25 -78.541177  35.840839      1334  27  RFD #27         5916 Buffaloe Rd   \n",
       "26 -78.510365  35.882473      1340  28  RFD #28      3500 Forestville Rd   \n",
       "27 -78.751473  35.919002      1346  29  RFD #29       12117 Leesville Rd   \n",
       "\n",
       "       CITY AGENCY STATIONID  RECNO  \n",
       "0   Raleigh     RF       S01     58  \n",
       "1   Raleigh     RF       S02     24  \n",
       "2   Raleigh     RF       S03     27  \n",
       "3   Raleigh     RF       S04     50  \n",
       "4   Raleigh     RF       S05     28  \n",
       "5   Raleigh     RF       S06     29  \n",
       "6   Raleigh     RF       S07     30  \n",
       "7   Raleigh     RF       S08     22  \n",
       "8   Raleigh     RF       S09     49  \n",
       "9   Raleigh     RF       S10     26  \n",
       "10  Raleigh     RF       S11     51  \n",
       "11  Raleigh     RF       S12     31  \n",
       "12  Raleigh     RF       S14     20  \n",
       "13  Raleigh     RF       S15     56  \n",
       "14  Raleigh     RF       S16     57  \n",
       "15  Raleigh     RF       S17     19  \n",
       "16  Raleigh     RF       S18     47  \n",
       "17  Raleigh     RF       S19     53  \n",
       "18  Raleigh     RF       S20     23  \n",
       "19  Raleigh     RF       S21     60  \n",
       "20  Raleigh     RF       S22     61  \n",
       "21  Raleigh     RF       S23     18  \n",
       "22  Raleigh     RF       S24     65  \n",
       "23  Raleigh     RF       S25     66  \n",
       "24  Raleigh     RF       S26     70  \n",
       "25  Raleigh     RF       S27     69  \n",
       "26  Raleigh     RF       S28     69  \n",
       "27  Raleigh     RF       S29     65  "
      ]
     },
     "execution_count": 66,
     "metadata": {},
     "output_type": "execute_result"
    }
   ],
   "source": [
    "rfd = pd.read_csv('./output/raleigh_fire_stations.csv')\n",
    "rfd"
   ]
  },
  {
   "cell_type": "code",
   "execution_count": 67,
   "metadata": {},
   "outputs": [
    {
     "data": {
      "text/plain": [
       "['RFD #1',\n",
       " 'RFD #2',\n",
       " 'RFD #3',\n",
       " 'RFD #4',\n",
       " 'RFD #5',\n",
       " 'RFD #6',\n",
       " 'RFD #7',\n",
       " 'RFD #8',\n",
       " 'RFD #9',\n",
       " 'RFD #10',\n",
       " 'RFD #11',\n",
       " 'RFD #12',\n",
       " 'RFD #14',\n",
       " 'RFD #15',\n",
       " 'RFD #16',\n",
       " 'RFD #17',\n",
       " 'RFD #18',\n",
       " 'RFD #19',\n",
       " 'RFD #20',\n",
       " 'RFD #21',\n",
       " 'RFD #22',\n",
       " 'RFD #23',\n",
       " 'RFD #24',\n",
       " 'RFD #25',\n",
       " 'RFD #26',\n",
       " 'RFD #27',\n",
       " 'RFD #28',\n",
       " 'RFD #29']"
      ]
     },
     "execution_count": 67,
     "metadata": {},
     "output_type": "execute_result"
    }
   ],
   "source": [
    "station = rfd[['Y','X']]\n",
    "label = [item for item in rfd['LABEL']]\n",
    "label"
   ]
  },
  {
   "cell_type": "code",
   "execution_count": 68,
   "metadata": {},
   "outputs": [
    {
     "ename": "NameError",
     "evalue": "name 'gkey' is not defined",
     "output_type": "error",
     "traceback": [
      "\u001b[0;31m---------------------------------------------------------------------------\u001b[0m",
      "\u001b[0;31mNameError\u001b[0m                                 Traceback (most recent call last)",
      "\u001b[0;32m<ipython-input-68-3697a22efccd>\u001b[0m in \u001b[0;36m<module>\u001b[0;34m()\u001b[0m\n\u001b[1;32m      1\u001b[0m \u001b[0;31m# Attempted using Gmaps to plot wind data, but there is a flare near Brazil that isn't reflected in the map,\u001b[0m\u001b[0;34m\u001b[0m\u001b[0;34m\u001b[0m\u001b[0m\n\u001b[1;32m      2\u001b[0m \u001b[0;31m# think it is just close together datapoints\u001b[0m\u001b[0;34m\u001b[0m\u001b[0;34m\u001b[0m\u001b[0m\n\u001b[0;32m----> 3\u001b[0;31m \u001b[0mgmaps\u001b[0m\u001b[0;34m.\u001b[0m\u001b[0mconfigure\u001b[0m\u001b[0;34m(\u001b[0m\u001b[0mapi_key\u001b[0m\u001b[0;34m=\u001b[0m\u001b[0mgkey\u001b[0m\u001b[0;34m)\u001b[0m\u001b[0;34m\u001b[0m\u001b[0m\n\u001b[0m\u001b[1;32m      4\u001b[0m \u001b[0;34m\u001b[0m\u001b[0m\n\u001b[1;32m      5\u001b[0m \u001b[0;31m# Center and zoom the map\u001b[0m\u001b[0;34m\u001b[0m\u001b[0;34m\u001b[0m\u001b[0m\n",
      "\u001b[0;31mNameError\u001b[0m: name 'gkey' is not defined"
     ]
    }
   ],
   "source": [
    "# Attempted using Gmaps to plot wind data, but there is a flare near Brazil that isn't reflected in the map, \n",
    "# think it is just close together datapoints\n",
    "gmaps.configure(api_key=gkey)\n",
    "\n",
    "# Center and zoom the map\n",
    "coordinates = (35.7894263,-78.6388527)\n",
    "\n",
    "figure_layout = {\n",
    "    'width': '800px',\n",
    "    'height': '500px',\n",
    "    'border': '1px solid black',\n",
    "    'padding': '1px'\n",
    "}\n",
    "\n",
    "fire_layer = gmaps.symbol_layer(station, fill_color='red', stroke_color='red', scale=3, hover_text=label)\n",
    "fig = gmaps.figure(layout=figure_layout, center=coordinates, zoom_level=11)\n",
    "\n",
    "fig.add_layer(fire_layer)\n",
    "fig"
   ]
  },
  {
   "cell_type": "markdown",
   "metadata": {},
   "source": [
    "### Station Response Time Summary\n",
    "- There were 10 stations whose response times were above the mean response time: (2, 8, 21, 22, 23, 24, 25, 26, 27, 28)\n",
    "- The response times are skewed to the right of the normal distribution\n",
    "- The stations with slower response times are on the outskirts of the city.\n",
    "- Do they cover a wider area than stations in town?"
   ]
  },
  {
   "cell_type": "code",
   "execution_count": 69,
   "metadata": {},
   "outputs": [],
   "source": [
    "slow_df = df.loc[df['station'].isin(slow_stations)]\n"
   ]
  },
  {
   "cell_type": "code",
   "execution_count": 70,
   "metadata": {},
   "outputs": [
    {
     "data": {
      "text/plain": [
       "[1, 3, 5, 7, 9, 10, 12, 14, 17, 19]"
      ]
     },
     "execution_count": 70,
     "metadata": {},
     "output_type": "execute_result"
    }
   ],
   "source": [
    "fast_stations = []\n",
    "count = 0\n",
    "for item, key in station_means.iteritems():\n",
    "    if (key - overall_mean) <= 0:\n",
    "        fast_stations.append(item)\n",
    "        count += 1\n",
    "fast_stations"
   ]
  },
  {
   "cell_type": "code",
   "execution_count": 71,
   "metadata": {},
   "outputs": [],
   "source": [
    "fast_df = df.loc[df['station'].isin(fast_stations)]"
   ]
  },
  {
   "cell_type": "code",
   "execution_count": 72,
   "metadata": {},
   "outputs": [
    {
     "data": {
      "text/plain": [
       "87127"
      ]
     },
     "execution_count": 72,
     "metadata": {},
     "output_type": "execute_result"
    }
   ],
   "source": [
    "len(slow_df)"
   ]
  },
  {
   "cell_type": "code",
   "execution_count": 73,
   "metadata": {},
   "outputs": [
    {
     "data": {
      "text/plain": [
       "GlobalID                             object\n",
       "OBJECTID                              int64\n",
       "address                              object\n",
       "address2                             object\n",
       "apt_room                             object\n",
       "arrive_date_time             datetime64[ns]\n",
       "cleared_date_time            datetime64[ns]\n",
       "dispatch_date_time           datetime64[ns]\n",
       "exposure                              int64\n",
       "incident_number                      object\n",
       "incident_type                       float64\n",
       "incident_type_description            object\n",
       "platoon                              object\n",
       "station                             float64\n",
       "Longitude                           float64\n",
       "Latitude                            float64\n",
       "Year                                 object\n",
       "Date                                 object\n",
       "Seconds                             float64\n",
       "dtype: object"
      ]
     },
     "execution_count": 73,
     "metadata": {},
     "output_type": "execute_result"
    }
   ],
   "source": [
    "len(fast_df)\n",
    "fast_df.dtypes"
   ]
  },
  {
   "cell_type": "code",
   "execution_count": 74,
   "metadata": {},
   "outputs": [],
   "source": [
    "slow_df_no = slow_df.loc[slow_df['Longitude'].astype(int) > -80]"
   ]
  },
  {
   "cell_type": "code",
   "execution_count": 75,
   "metadata": {},
   "outputs": [],
   "source": [
    "fast_df_no = fast_df.loc[fast_df['Longitude']> -80]"
   ]
  },
  {
   "cell_type": "code",
   "execution_count": 87,
   "metadata": {},
   "outputs": [
    {
     "data": {
      "image/png": "[encoded data removed]",
      "text/plain": [
       "<Figure size 720x576 with 1 Axes>"
      ]
     },
     "metadata": {
      "needs_background": "light"
     },
     "output_type": "display_data"
    }
   ],
   "source": [
    "\n",
    "sns.scatterplot(data=fast_df_no, x='Longitude', y='Latitude', hue='station', legend='full', s=40, palette='icefire')\n",
    "fig = plt.gcf()\n",
    "fig.set_size_inches(10, 8)\n",
    "fig.ylimit=(-60,45)\n",
    "fig.xlimit=(-65,85)\n",
    "plt.grid(alpha=0.4)\n",
    "plt.xlabel('Longitude', fontsize=12, fontweight='bold')\n",
    "plt.ylabel('Latitude', fontsize=12, fontweight='bold')\n",
    "plt.title(\"Incidents by fast station coordinates\", fontsize=14, fontweight='bold')\n",
    "plt.savefig('./graphics/fast_station.png')"
   ]
  },
  {
   "cell_type": "code",
   "execution_count": 88,
   "metadata": {},
   "outputs": [
    {
     "data": {
      "image/png": "[encoded data removed]",
      "text/plain": [
       "<Figure size 720x576 with 1 Axes>"
      ]
     },
     "metadata": {
      "needs_background": "light"
     },
     "output_type": "display_data"
    }
   ],
   "source": [
    "sns.scatterplot(data=slow_df_no, x='Longitude', y='Latitude', hue='station', legend='full', s=40, palette='icefire')\n",
    "fig = plt.gcf()\n",
    "fig.set_size_inches(10, 8)\n",
    "fig.ylimit=(-60,45)\n",
    "fig.xlimit=(-65,85)\n",
    "plt.grid(alpha=0.4)\n",
    "plt.xlabel('Longitude', fontsize=12, fontweight='bold')\n",
    "plt.ylabel('Latitude', fontsize=12, fontweight='bold')\n",
    "plt.title(\"Incidents by slow station coordinates\", fontsize=14, fontweight='bold')\n",
    "plt.savefig('./graphics/slow_station.png')"
   ]
  },
  {
   "cell_type": "code",
   "execution_count": null,
   "metadata": {},
   "outputs": [],
   "source": [
    "pd.to_csv('slow_stations.csv',slow_df_no)\n",
    "pd.to_csv('fast_stations.csv',fast_df_no)"
   ]
  }
 ],
 "metadata": {
  "kernelspec": {
   "display_name": "Python 3",
   "language": "python",
   "name": "python3"
  },
  "language_info": {
   "codemirror_mode": {
    "name": "ipython",
    "version": 3
   },
   "file_extension": ".py",
   "mimetype": "text/x-python",
   "name": "python",
   "nbconvert_exporter": "python",
   "pygments_lexer": "ipython3",
   "version": "3.7.0"
  }
 },
 "nbformat": 4,
 "nbformat_minor": 2
}
