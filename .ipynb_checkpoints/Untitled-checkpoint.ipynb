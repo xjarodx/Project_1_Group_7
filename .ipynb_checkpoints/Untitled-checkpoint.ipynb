{
 "cells": [
  {
   "cell_type": "code",
   "execution_count": 35,
   "metadata": {},
   "outputs": [],
   "source": [
    "import pandas as pd\n",
    "import requests\n",
    "import time\n",
    "import json\n",
    "import csv\n",
    "\n",
    "url =  \"https://api.worldweatheronline.com/premium/v1/past-weather.ashx?\"\n",
    "\n",
    "key = \"7e34c59cefd04e26b1413041191101\"   #Your API key\n",
    "\n",
    "inputfile = \"ZipCodes.csv\" #pull the zip code file\n",
    "\n",
    "zip_list = []     # stores the list of zip codes\n",
    "\n",
    "#reads list of zip codes in the triangle area from input file \n",
    "with open(inputfile, \"rt\") as f:\n",
    "    reader = csv.reader(f, delimiter=\"\\t\")\n",
    "    for row in reader:\n",
    "        zip_list.append(row)\n",
    "\n",
    "f= \"json\" #sets format to json\n",
    "\n",
    "end = \"2008-01-01\" #sets the earliest date\n",
    "\n",
    "tp = \"24\" #pull daily average\n",
    "\n",
    "query_url = f\"{url}key={key}&q={zip_list}&format={f}&enddate={end}&tp={tp}\""
   ]
  },
  {
   "cell_type": "code",
   "execution_count": 41,
   "metadata": {},
   "outputs": [
    {
     "name": "stdout",
     "output_type": "stream",
     "text": [
      "{\n",
      "    \"data\": {\n",
      "        \"request\": [\n",
      "            {\n",
      "                \"query\": \"Pittsboro, USA United States of America\",\n",
      "                \"type\": \"City\"\n",
      "            }\n",
      "        ],\n",
      "        \"weather\": [\n",
      "            {\n",
      "                \"astronomy\": [\n",
      "                    {\n",
      "                        \"moon_illumination\": \"28\",\n",
      "                        \"moon_phase\": \"First Quarter\",\n",
      "                        \"moonrise\": \"10:51 AM\",\n",
      "                        \"moonset\": \"10:34 PM\",\n",
      "                        \"sunrise\": \"07:27 AM\",\n",
      "                        \"sunset\": \"05:23 PM\"\n",
      "                    }\n",
      "                ],\n",
      "                \"date\": \"2019-01-11\",\n",
      "                \"hourly\": [\n",
      "                    {\n",
      "                        \"DewPointC\": \"-9\",\n",
      "                        \"DewPointF\": \"17\",\n",
      "                        \"FeelsLikeC\": \"0\",\n",
      "                        \"FeelsLikeF\": \"32\",\n",
      "                        \"HeatIndexC\": \"1\",\n",
      "                        \"HeatIndexF\": \"33\",\n",
      "                        \"WindChillC\": \"0\",\n",
      "                        \"WindChillF\": \"32\",\n",
      "                        \"WindGustKmph\": \"7\",\n",
      "                        \"WindGustMiles\": \"5\",\n",
      "                        \"cloudcover\": \"10\",\n",
      "                        \"humidity\": \"55\",\n",
      "                        \"precipMM\": \"0.0\",\n",
      "                        \"pressure\": \"1028\",\n",
      "                        \"tempC\": \"5\",\n",
      "                        \"tempF\": \"41\",\n",
      "                        \"time\": \"24\",\n",
      "                        \"visibility\": \"20\",\n",
      "                        \"weatherCode\": \"116\",\n",
      "                        \"weatherDesc\": [\n",
      "                            {\n",
      "                                \"value\": \"Partly cloudy\"\n",
      "                            }\n",
      "                        ],\n",
      "                        \"weatherIconUrl\": [\n",
      "                            {\n",
      "                                \"value\": \"http://cdn.worldweatheronline.net/images/wsymbols01_png_64/wsymbol_0002_sunny_intervals.png\"\n",
      "                            }\n",
      "                        ],\n",
      "                        \"winddir16Point\": \"SE\",\n",
      "                        \"winddirDegree\": \"126\",\n",
      "                        \"windspeedKmph\": \"4\",\n",
      "                        \"windspeedMiles\": \"2\"\n",
      "                    }\n",
      "                ],\n",
      "                \"maxtempC\": \"5\",\n",
      "                \"maxtempF\": \"41\",\n",
      "                \"mintempC\": \"-4\",\n",
      "                \"mintempF\": \"25\",\n",
      "                \"sunHour\": \"0.0\",\n",
      "                \"totalSnow_cm\": \"0.0\",\n",
      "                \"uvIndex\": \"3\"\n",
      "            }\n",
      "        ]\n",
      "    }\n",
      "}\n"
     ]
    }
   ],
   "source": [
    "weather = requests.get(query_url).json()\n",
    "print(json.dumps(weather, indent=4, sort_keys=True))"
   ]
  },
  {
   "cell_type": "code",
   "execution_count": null,
   "metadata": {},
   "outputs": [],
   "source": [
    "\n",
    "\n",
    "\n",
    "#weather_pd = pd.DataFrame(weather)\n",
    "#weather_pd.head()"
   ]
  }
 ],
 "metadata": {
  "kernelspec": {
   "display_name": "Python 3",
   "language": "python",
   "name": "python3"
  },
  "language_info": {
   "codemirror_mode": {
    "name": "ipython",
    "version": 3
   },
   "file_extension": ".py",
   "mimetype": "text/x-python",
   "name": "python",
   "nbconvert_exporter": "python",
   "pygments_lexer": "ipython3",
   "version": "3.7.0"
  }
 },
 "nbformat": 4,
 "nbformat_minor": 2
}
